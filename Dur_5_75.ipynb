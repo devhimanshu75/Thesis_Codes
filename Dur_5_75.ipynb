{
 "cells": [
  {
   "cell_type": "code",
   "execution_count": 1,
   "metadata": {},
   "outputs": [
    {
     "name": "stderr",
     "output_type": "stream",
     "text": [
      "Using TensorFlow backend.\n"
     ]
    }
   ],
   "source": [
    "import numpy as np\n",
    "import pandas as pd\n",
    "import seaborn as sns\n",
    "import matplotlib.pyplot as plt\n",
    "import tensorflow as tf\n",
    "from keras.models import Sequential\n",
    "from keras.layers import Dense\n",
    "from keras.wrappers.scikit_learn import KerasRegressor\n",
    "from sklearn.model_selection import train_test_split\n",
    "from sklearn.metrics import r2_score\n",
    "import sklearn\n",
    "from sklearn import preprocessing\n",
    "from tensorflow.keras.optimizers import Adam\n",
    "from sklearn.model_selection import StratifiedKFold"
   ]
  },
  {
   "cell_type": "code",
   "execution_count": 2,
   "metadata": {},
   "outputs": [],
   "source": [
    "df_ns2=pd.read_csv('KiKNet_smoothFAS_updated_28Dec20_NS2.csv')\n",
    "df_ew2=pd.read_csv('KiKNet_smoothFAS_updated_28Dec20_EW2.csv')"
   ]
  },
  {
   "cell_type": "code",
   "execution_count": 3,
   "metadata": {},
   "outputs": [],
   "source": [
    "pd.set_option('display.max_columns', None)"
   ]
  },
  {
   "cell_type": "code",
   "execution_count": 4,
   "metadata": {},
   "outputs": [],
   "source": [
    "df=df_ns2[['MT_Magnitude_','rjb_0','Vs30','D5_75_NS2','D20_80_NS2','D5_95_NS2','D5_75_EW2','D20_80_EW2','D5_95_EW2']]"
   ]
  },
  {
   "cell_type": "code",
   "execution_count": 5,
   "metadata": {},
   "outputs": [
    {
     "name": "stderr",
     "output_type": "stream",
     "text": [
      "C:\\Users\\Dev\\anaconda3\\envs\\tf\\lib\\site-packages\\ipykernel_launcher.py:2: SettingWithCopyWarning: \n",
      "A value is trying to be set on a copy of a slice from a DataFrame.\n",
      "Try using .loc[row_indexer,col_indexer] = value instead\n",
      "\n",
      "See the caveats in the documentation: https://pandas.pydata.org/pandas-docs/stable/user_guide/indexing.html#returning-a-view-versus-a-copy\n",
      "  \n",
      "C:\\Users\\Dev\\anaconda3\\envs\\tf\\lib\\site-packages\\ipykernel_launcher.py:3: SettingWithCopyWarning: \n",
      "A value is trying to be set on a copy of a slice from a DataFrame.\n",
      "Try using .loc[row_indexer,col_indexer] = value instead\n",
      "\n",
      "See the caveats in the documentation: https://pandas.pydata.org/pandas-docs/stable/user_guide/indexing.html#returning-a-view-versus-a-copy\n",
      "  This is separate from the ipykernel package so we can avoid doing imports until\n",
      "C:\\Users\\Dev\\anaconda3\\envs\\tf\\lib\\site-packages\\ipykernel_launcher.py:4: SettingWithCopyWarning: \n",
      "A value is trying to be set on a copy of a slice from a DataFrame.\n",
      "Try using .loc[row_indexer,col_indexer] = value instead\n",
      "\n",
      "See the caveats in the documentation: https://pandas.pydata.org/pandas-docs/stable/user_guide/indexing.html#returning-a-view-versus-a-copy\n",
      "  after removing the cwd from sys.path.\n"
     ]
    }
   ],
   "source": [
    "from scipy import stats\n",
    "df['_5_75']=stats.gmean(df.loc[:,['D5_75_EW2','D5_75_NS2']], axis=1)\n",
    "df['_20_80']=stats.gmean(df.loc[:,['D20_80_EW2','D20_80_NS2']], axis=1)\n",
    "df['_5_95']=stats.gmean(df.loc[:,['D5_95_EW2','D5_95_NS2']], axis=1)"
   ]
  },
  {
   "cell_type": "code",
   "execution_count": 6,
   "metadata": {},
   "outputs": [
    {
     "data": {
      "text/plain": [
       "(59011, 13)"
      ]
     },
     "execution_count": 6,
     "metadata": {},
     "output_type": "execute_result"
    }
   ],
   "source": [
    "df=df.reset_index()\n",
    "df.shape"
   ]
  },
  {
   "cell_type": "code",
   "execution_count": 7,
   "metadata": {},
   "outputs": [],
   "source": [
    "df.dropna(axis=0,inplace=True)"
   ]
  },
  {
   "cell_type": "code",
   "execution_count": 8,
   "metadata": {},
   "outputs": [
    {
     "data": {
      "text/html": [
       "<div>\n",
       "<style scoped>\n",
       "    .dataframe tbody tr th:only-of-type {\n",
       "        vertical-align: middle;\n",
       "    }\n",
       "\n",
       "    .dataframe tbody tr th {\n",
       "        vertical-align: top;\n",
       "    }\n",
       "\n",
       "    .dataframe thead th {\n",
       "        text-align: right;\n",
       "    }\n",
       "</style>\n",
       "<table border=\"1\" class=\"dataframe\">\n",
       "  <thead>\n",
       "    <tr style=\"text-align: right;\">\n",
       "      <th></th>\n",
       "      <th>index</th>\n",
       "      <th>MT_Magnitude_</th>\n",
       "      <th>rjb_0</th>\n",
       "      <th>Vs30</th>\n",
       "      <th>D5_75_NS2</th>\n",
       "      <th>D20_80_NS2</th>\n",
       "      <th>D5_95_NS2</th>\n",
       "      <th>D5_75_EW2</th>\n",
       "      <th>D20_80_EW2</th>\n",
       "      <th>D5_95_EW2</th>\n",
       "      <th>_5_75</th>\n",
       "      <th>_20_80</th>\n",
       "      <th>_5_95</th>\n",
       "    </tr>\n",
       "  </thead>\n",
       "  <tbody>\n",
       "    <tr>\n",
       "      <th>0</th>\n",
       "      <td>0</td>\n",
       "      <td>5.0</td>\n",
       "      <td>201.366205</td>\n",
       "      <td>241.153846</td>\n",
       "      <td>18.755</td>\n",
       "      <td>17.205</td>\n",
       "      <td>32.665</td>\n",
       "      <td>15.670</td>\n",
       "      <td>14.035</td>\n",
       "      <td>30.665</td>\n",
       "      <td>17.143245</td>\n",
       "      <td>15.539375</td>\n",
       "      <td>31.649206</td>\n",
       "    </tr>\n",
       "    <tr>\n",
       "      <th>1</th>\n",
       "      <td>1</td>\n",
       "      <td>5.0</td>\n",
       "      <td>212.569993</td>\n",
       "      <td>301.324503</td>\n",
       "      <td>25.350</td>\n",
       "      <td>11.890</td>\n",
       "      <td>39.275</td>\n",
       "      <td>26.860</td>\n",
       "      <td>12.985</td>\n",
       "      <td>41.555</td>\n",
       "      <td>26.094080</td>\n",
       "      <td>12.425444</td>\n",
       "      <td>40.398919</td>\n",
       "    </tr>\n",
       "    <tr>\n",
       "      <th>2</th>\n",
       "      <td>2</td>\n",
       "      <td>5.0</td>\n",
       "      <td>160.594546</td>\n",
       "      <td>428.100722</td>\n",
       "      <td>19.135</td>\n",
       "      <td>5.295</td>\n",
       "      <td>25.105</td>\n",
       "      <td>4.320</td>\n",
       "      <td>3.665</td>\n",
       "      <td>9.920</td>\n",
       "      <td>9.091930</td>\n",
       "      <td>4.405244</td>\n",
       "      <td>15.781052</td>\n",
       "    </tr>\n",
       "    <tr>\n",
       "      <th>3</th>\n",
       "      <td>3</td>\n",
       "      <td>5.0</td>\n",
       "      <td>195.256405</td>\n",
       "      <td>448.533640</td>\n",
       "      <td>26.155</td>\n",
       "      <td>6.425</td>\n",
       "      <td>33.085</td>\n",
       "      <td>15.705</td>\n",
       "      <td>4.245</td>\n",
       "      <td>21.410</td>\n",
       "      <td>20.267320</td>\n",
       "      <td>5.222463</td>\n",
       "      <td>26.614843</td>\n",
       "    </tr>\n",
       "    <tr>\n",
       "      <th>4</th>\n",
       "      <td>4</td>\n",
       "      <td>5.0</td>\n",
       "      <td>220.505360</td>\n",
       "      <td>274.027568</td>\n",
       "      <td>31.625</td>\n",
       "      <td>10.610</td>\n",
       "      <td>43.535</td>\n",
       "      <td>28.405</td>\n",
       "      <td>11.245</td>\n",
       "      <td>42.955</td>\n",
       "      <td>29.971789</td>\n",
       "      <td>10.922887</td>\n",
       "      <td>43.244028</td>\n",
       "    </tr>\n",
       "    <tr>\n",
       "      <th>...</th>\n",
       "      <td>...</td>\n",
       "      <td>...</td>\n",
       "      <td>...</td>\n",
       "      <td>...</td>\n",
       "      <td>...</td>\n",
       "      <td>...</td>\n",
       "      <td>...</td>\n",
       "      <td>...</td>\n",
       "      <td>...</td>\n",
       "      <td>...</td>\n",
       "      <td>...</td>\n",
       "      <td>...</td>\n",
       "      <td>...</td>\n",
       "    </tr>\n",
       "    <tr>\n",
       "      <th>59006</th>\n",
       "      <td>59006</td>\n",
       "      <td>3.6</td>\n",
       "      <td>48.584792</td>\n",
       "      <td>371.462264</td>\n",
       "      <td>4.490</td>\n",
       "      <td>3.750</td>\n",
       "      <td>13.260</td>\n",
       "      <td>3.460</td>\n",
       "      <td>1.760</td>\n",
       "      <td>9.290</td>\n",
       "      <td>3.941497</td>\n",
       "      <td>2.569047</td>\n",
       "      <td>11.098892</td>\n",
       "    </tr>\n",
       "    <tr>\n",
       "      <th>59007</th>\n",
       "      <td>59007</td>\n",
       "      <td>3.6</td>\n",
       "      <td>70.884798</td>\n",
       "      <td>328.979157</td>\n",
       "      <td>5.600</td>\n",
       "      <td>6.870</td>\n",
       "      <td>17.760</td>\n",
       "      <td>6.520</td>\n",
       "      <td>6.360</td>\n",
       "      <td>19.840</td>\n",
       "      <td>6.042516</td>\n",
       "      <td>6.610083</td>\n",
       "      <td>18.771212</td>\n",
       "    </tr>\n",
       "    <tr>\n",
       "      <th>59008</th>\n",
       "      <td>59008</td>\n",
       "      <td>3.6</td>\n",
       "      <td>52.028046</td>\n",
       "      <td>343.678161</td>\n",
       "      <td>4.810</td>\n",
       "      <td>5.460</td>\n",
       "      <td>15.090</td>\n",
       "      <td>5.640</td>\n",
       "      <td>6.250</td>\n",
       "      <td>18.750</td>\n",
       "      <td>5.208493</td>\n",
       "      <td>5.841661</td>\n",
       "      <td>16.820746</td>\n",
       "    </tr>\n",
       "    <tr>\n",
       "      <th>59009</th>\n",
       "      <td>59009</td>\n",
       "      <td>3.6</td>\n",
       "      <td>34.276865</td>\n",
       "      <td>573.596358</td>\n",
       "      <td>2.530</td>\n",
       "      <td>2.600</td>\n",
       "      <td>8.140</td>\n",
       "      <td>3.940</td>\n",
       "      <td>4.190</td>\n",
       "      <td>11.120</td>\n",
       "      <td>3.157246</td>\n",
       "      <td>3.300606</td>\n",
       "      <td>9.514032</td>\n",
       "    </tr>\n",
       "    <tr>\n",
       "      <th>59010</th>\n",
       "      <td>59010</td>\n",
       "      <td>3.6</td>\n",
       "      <td>49.819778</td>\n",
       "      <td>213.197970</td>\n",
       "      <td>6.630</td>\n",
       "      <td>6.650</td>\n",
       "      <td>16.980</td>\n",
       "      <td>3.950</td>\n",
       "      <td>4.890</td>\n",
       "      <td>15.170</td>\n",
       "      <td>5.117470</td>\n",
       "      <td>5.702499</td>\n",
       "      <td>16.049505</td>\n",
       "    </tr>\n",
       "  </tbody>\n",
       "</table>\n",
       "<p>53797 rows × 13 columns</p>\n",
       "</div>"
      ],
      "text/plain": [
       "       index  MT_Magnitude_       rjb_0        Vs30  D5_75_NS2  D20_80_NS2  \\\n",
       "0          0            5.0  201.366205  241.153846     18.755      17.205   \n",
       "1          1            5.0  212.569993  301.324503     25.350      11.890   \n",
       "2          2            5.0  160.594546  428.100722     19.135       5.295   \n",
       "3          3            5.0  195.256405  448.533640     26.155       6.425   \n",
       "4          4            5.0  220.505360  274.027568     31.625      10.610   \n",
       "...      ...            ...         ...         ...        ...         ...   \n",
       "59006  59006            3.6   48.584792  371.462264      4.490       3.750   \n",
       "59007  59007            3.6   70.884798  328.979157      5.600       6.870   \n",
       "59008  59008            3.6   52.028046  343.678161      4.810       5.460   \n",
       "59009  59009            3.6   34.276865  573.596358      2.530       2.600   \n",
       "59010  59010            3.6   49.819778  213.197970      6.630       6.650   \n",
       "\n",
       "       D5_95_NS2  D5_75_EW2  D20_80_EW2  D5_95_EW2      _5_75     _20_80  \\\n",
       "0         32.665     15.670      14.035     30.665  17.143245  15.539375   \n",
       "1         39.275     26.860      12.985     41.555  26.094080  12.425444   \n",
       "2         25.105      4.320       3.665      9.920   9.091930   4.405244   \n",
       "3         33.085     15.705       4.245     21.410  20.267320   5.222463   \n",
       "4         43.535     28.405      11.245     42.955  29.971789  10.922887   \n",
       "...          ...        ...         ...        ...        ...        ...   \n",
       "59006     13.260      3.460       1.760      9.290   3.941497   2.569047   \n",
       "59007     17.760      6.520       6.360     19.840   6.042516   6.610083   \n",
       "59008     15.090      5.640       6.250     18.750   5.208493   5.841661   \n",
       "59009      8.140      3.940       4.190     11.120   3.157246   3.300606   \n",
       "59010     16.980      3.950       4.890     15.170   5.117470   5.702499   \n",
       "\n",
       "           _5_95  \n",
       "0      31.649206  \n",
       "1      40.398919  \n",
       "2      15.781052  \n",
       "3      26.614843  \n",
       "4      43.244028  \n",
       "...          ...  \n",
       "59006  11.098892  \n",
       "59007  18.771212  \n",
       "59008  16.820746  \n",
       "59009   9.514032  \n",
       "59010  16.049505  \n",
       "\n",
       "[53797 rows x 13 columns]"
      ]
     },
     "execution_count": 8,
     "metadata": {},
     "output_type": "execute_result"
    }
   ],
   "source": [
    "df"
   ]
  },
  {
   "cell_type": "code",
   "execution_count": 9,
   "metadata": {},
   "outputs": [
    {
     "data": {
      "text/html": [
       "<div>\n",
       "<style scoped>\n",
       "    .dataframe tbody tr th:only-of-type {\n",
       "        vertical-align: middle;\n",
       "    }\n",
       "\n",
       "    .dataframe tbody tr th {\n",
       "        vertical-align: top;\n",
       "    }\n",
       "\n",
       "    .dataframe thead th {\n",
       "        text-align: right;\n",
       "    }\n",
       "</style>\n",
       "<table border=\"1\" class=\"dataframe\">\n",
       "  <thead>\n",
       "    <tr style=\"text-align: right;\">\n",
       "      <th></th>\n",
       "      <th>index</th>\n",
       "      <th>MT_Magnitude_</th>\n",
       "      <th>rjb_0</th>\n",
       "      <th>Vs30</th>\n",
       "      <th>D5_75_NS2</th>\n",
       "      <th>D20_80_NS2</th>\n",
       "      <th>D5_95_NS2</th>\n",
       "      <th>D5_75_EW2</th>\n",
       "      <th>D20_80_EW2</th>\n",
       "      <th>D5_95_EW2</th>\n",
       "      <th>_5_75</th>\n",
       "      <th>_20_80</th>\n",
       "      <th>_5_95</th>\n",
       "    </tr>\n",
       "  </thead>\n",
       "  <tbody>\n",
       "    <tr>\n",
       "      <th>474</th>\n",
       "      <td>474</td>\n",
       "      <td>5.1</td>\n",
       "      <td>208.909603</td>\n",
       "      <td>372.133011</td>\n",
       "      <td>28.450</td>\n",
       "      <td>19.62</td>\n",
       "      <td>47.570</td>\n",
       "      <td>27.130</td>\n",
       "      <td>20.100</td>\n",
       "      <td>44.400</td>\n",
       "      <td>27.782162</td>\n",
       "      <td>19.858550</td>\n",
       "      <td>45.957676</td>\n",
       "    </tr>\n",
       "    <tr>\n",
       "      <th>1136</th>\n",
       "      <td>1136</td>\n",
       "      <td>5.1</td>\n",
       "      <td>201.085232</td>\n",
       "      <td>717.217871</td>\n",
       "      <td>11.080</td>\n",
       "      <td>7.17</td>\n",
       "      <td>27.390</td>\n",
       "      <td>11.620</td>\n",
       "      <td>9.075</td>\n",
       "      <td>29.710</td>\n",
       "      <td>11.346788</td>\n",
       "      <td>8.066458</td>\n",
       "      <td>28.526425</td>\n",
       "    </tr>\n",
       "    <tr>\n",
       "      <th>1163</th>\n",
       "      <td>1163</td>\n",
       "      <td>5.1</td>\n",
       "      <td>200.237120</td>\n",
       "      <td>518.251273</td>\n",
       "      <td>7.690</td>\n",
       "      <td>9.02</td>\n",
       "      <td>34.220</td>\n",
       "      <td>9.655</td>\n",
       "      <td>11.555</td>\n",
       "      <td>40.005</td>\n",
       "      <td>8.616667</td>\n",
       "      <td>10.209118</td>\n",
       "      <td>36.999609</td>\n",
       "    </tr>\n",
       "    <tr>\n",
       "      <th>1207</th>\n",
       "      <td>1207</td>\n",
       "      <td>5.1</td>\n",
       "      <td>200.944591</td>\n",
       "      <td>403.846154</td>\n",
       "      <td>3.900</td>\n",
       "      <td>3.35</td>\n",
       "      <td>13.465</td>\n",
       "      <td>3.820</td>\n",
       "      <td>3.180</td>\n",
       "      <td>7.855</td>\n",
       "      <td>3.859793</td>\n",
       "      <td>3.263893</td>\n",
       "      <td>10.284336</td>\n",
       "    </tr>\n",
       "    <tr>\n",
       "      <th>3193</th>\n",
       "      <td>3193</td>\n",
       "      <td>5.1</td>\n",
       "      <td>207.087101</td>\n",
       "      <td>369.230769</td>\n",
       "      <td>9.675</td>\n",
       "      <td>8.83</td>\n",
       "      <td>15.830</td>\n",
       "      <td>8.600</td>\n",
       "      <td>9.300</td>\n",
       "      <td>18.510</td>\n",
       "      <td>9.121677</td>\n",
       "      <td>9.061953</td>\n",
       "      <td>17.117631</td>\n",
       "    </tr>\n",
       "    <tr>\n",
       "      <th>...</th>\n",
       "      <td>...</td>\n",
       "      <td>...</td>\n",
       "      <td>...</td>\n",
       "      <td>...</td>\n",
       "      <td>...</td>\n",
       "      <td>...</td>\n",
       "      <td>...</td>\n",
       "      <td>...</td>\n",
       "      <td>...</td>\n",
       "      <td>...</td>\n",
       "      <td>...</td>\n",
       "      <td>...</td>\n",
       "      <td>...</td>\n",
       "    </tr>\n",
       "    <tr>\n",
       "      <th>58673</th>\n",
       "      <td>58673</td>\n",
       "      <td>5.1</td>\n",
       "      <td>202.095837</td>\n",
       "      <td>371.058679</td>\n",
       "      <td>14.640</td>\n",
       "      <td>10.51</td>\n",
       "      <td>31.700</td>\n",
       "      <td>14.800</td>\n",
       "      <td>9.220</td>\n",
       "      <td>29.530</td>\n",
       "      <td>14.719783</td>\n",
       "      <td>9.843892</td>\n",
       "      <td>30.595768</td>\n",
       "    </tr>\n",
       "    <tr>\n",
       "      <th>58675</th>\n",
       "      <td>58675</td>\n",
       "      <td>5.1</td>\n",
       "      <td>206.392503</td>\n",
       "      <td>416.748768</td>\n",
       "      <td>10.450</td>\n",
       "      <td>10.51</td>\n",
       "      <td>55.260</td>\n",
       "      <td>10.960</td>\n",
       "      <td>11.460</td>\n",
       "      <td>55.400</td>\n",
       "      <td>10.701962</td>\n",
       "      <td>10.974726</td>\n",
       "      <td>55.329956</td>\n",
       "    </tr>\n",
       "    <tr>\n",
       "      <th>58681</th>\n",
       "      <td>58681</td>\n",
       "      <td>5.1</td>\n",
       "      <td>207.024353</td>\n",
       "      <td>933.962264</td>\n",
       "      <td>13.430</td>\n",
       "      <td>9.28</td>\n",
       "      <td>27.710</td>\n",
       "      <td>12.140</td>\n",
       "      <td>8.640</td>\n",
       "      <td>24.000</td>\n",
       "      <td>12.768720</td>\n",
       "      <td>8.954284</td>\n",
       "      <td>25.788369</td>\n",
       "    </tr>\n",
       "    <tr>\n",
       "      <th>58710</th>\n",
       "      <td>58710</td>\n",
       "      <td>5.1</td>\n",
       "      <td>201.852632</td>\n",
       "      <td>705.445545</td>\n",
       "      <td>8.220</td>\n",
       "      <td>5.85</td>\n",
       "      <td>15.930</td>\n",
       "      <td>8.230</td>\n",
       "      <td>6.180</td>\n",
       "      <td>15.560</td>\n",
       "      <td>8.224998</td>\n",
       "      <td>6.012736</td>\n",
       "      <td>15.743913</td>\n",
       "    </tr>\n",
       "    <tr>\n",
       "      <th>58711</th>\n",
       "      <td>58711</td>\n",
       "      <td>5.1</td>\n",
       "      <td>206.495903</td>\n",
       "      <td>520.597135</td>\n",
       "      <td>12.980</td>\n",
       "      <td>8.16</td>\n",
       "      <td>22.910</td>\n",
       "      <td>9.200</td>\n",
       "      <td>7.690</td>\n",
       "      <td>18.810</td>\n",
       "      <td>10.927763</td>\n",
       "      <td>7.921515</td>\n",
       "      <td>20.759025</td>\n",
       "    </tr>\n",
       "  </tbody>\n",
       "</table>\n",
       "<p>80 rows × 13 columns</p>\n",
       "</div>"
      ],
      "text/plain": [
       "       index  MT_Magnitude_       rjb_0        Vs30  D5_75_NS2  D20_80_NS2  \\\n",
       "474      474            5.1  208.909603  372.133011     28.450       19.62   \n",
       "1136    1136            5.1  201.085232  717.217871     11.080        7.17   \n",
       "1163    1163            5.1  200.237120  518.251273      7.690        9.02   \n",
       "1207    1207            5.1  200.944591  403.846154      3.900        3.35   \n",
       "3193    3193            5.1  207.087101  369.230769      9.675        8.83   \n",
       "...      ...            ...         ...         ...        ...         ...   \n",
       "58673  58673            5.1  202.095837  371.058679     14.640       10.51   \n",
       "58675  58675            5.1  206.392503  416.748768     10.450       10.51   \n",
       "58681  58681            5.1  207.024353  933.962264     13.430        9.28   \n",
       "58710  58710            5.1  201.852632  705.445545      8.220        5.85   \n",
       "58711  58711            5.1  206.495903  520.597135     12.980        8.16   \n",
       "\n",
       "       D5_95_NS2  D5_75_EW2  D20_80_EW2  D5_95_EW2      _5_75     _20_80  \\\n",
       "474       47.570     27.130      20.100     44.400  27.782162  19.858550   \n",
       "1136      27.390     11.620       9.075     29.710  11.346788   8.066458   \n",
       "1163      34.220      9.655      11.555     40.005   8.616667  10.209118   \n",
       "1207      13.465      3.820       3.180      7.855   3.859793   3.263893   \n",
       "3193      15.830      8.600       9.300     18.510   9.121677   9.061953   \n",
       "...          ...        ...         ...        ...        ...        ...   \n",
       "58673     31.700     14.800       9.220     29.530  14.719783   9.843892   \n",
       "58675     55.260     10.960      11.460     55.400  10.701962  10.974726   \n",
       "58681     27.710     12.140       8.640     24.000  12.768720   8.954284   \n",
       "58710     15.930      8.230       6.180     15.560   8.224998   6.012736   \n",
       "58711     22.910      9.200       7.690     18.810  10.927763   7.921515   \n",
       "\n",
       "           _5_95  \n",
       "474    45.957676  \n",
       "1136   28.526425  \n",
       "1163   36.999609  \n",
       "1207   10.284336  \n",
       "3193   17.117631  \n",
       "...          ...  \n",
       "58673  30.595768  \n",
       "58675  55.329956  \n",
       "58681  25.788369  \n",
       "58710  15.743913  \n",
       "58711  20.759025  \n",
       "\n",
       "[80 rows x 13 columns]"
      ]
     },
     "execution_count": 9,
     "metadata": {},
     "output_type": "execute_result"
    }
   ],
   "source": [
    "df.loc[(df['MT_Magnitude_'] == 5.1)&(df['rjb_0'] > 200)&(df['rjb_0'] < 210)]"
   ]
  },
  {
   "cell_type": "code",
   "execution_count": 10,
   "metadata": {},
   "outputs": [
    {
     "data": {
      "text/plain": [
       "299.968812"
      ]
     },
     "execution_count": 10,
     "metadata": {},
     "output_type": "execute_result"
    }
   ],
   "source": [
    "df['MT_Magnitude_'].max()\n",
    "df['rjb_0'].max()"
   ]
  },
  {
   "cell_type": "code",
   "execution_count": 11,
   "metadata": {},
   "outputs": [
    {
     "data": {
      "text/html": [
       "<div>\n",
       "<style scoped>\n",
       "    .dataframe tbody tr th:only-of-type {\n",
       "        vertical-align: middle;\n",
       "    }\n",
       "\n",
       "    .dataframe tbody tr th {\n",
       "        vertical-align: top;\n",
       "    }\n",
       "\n",
       "    .dataframe thead th {\n",
       "        text-align: right;\n",
       "    }\n",
       "</style>\n",
       "<table border=\"1\" class=\"dataframe\">\n",
       "  <thead>\n",
       "    <tr style=\"text-align: right;\">\n",
       "      <th></th>\n",
       "      <th>MT_Magnitude_</th>\n",
       "      <th>rjb_0</th>\n",
       "    </tr>\n",
       "  </thead>\n",
       "  <tbody>\n",
       "    <tr>\n",
       "      <th>0</th>\n",
       "      <td>5.0</td>\n",
       "      <td>201.366205</td>\n",
       "    </tr>\n",
       "    <tr>\n",
       "      <th>1</th>\n",
       "      <td>5.0</td>\n",
       "      <td>212.569993</td>\n",
       "    </tr>\n",
       "    <tr>\n",
       "      <th>2</th>\n",
       "      <td>5.0</td>\n",
       "      <td>160.594546</td>\n",
       "    </tr>\n",
       "    <tr>\n",
       "      <th>3</th>\n",
       "      <td>5.0</td>\n",
       "      <td>195.256405</td>\n",
       "    </tr>\n",
       "    <tr>\n",
       "      <th>4</th>\n",
       "      <td>5.0</td>\n",
       "      <td>220.505360</td>\n",
       "    </tr>\n",
       "    <tr>\n",
       "      <th>...</th>\n",
       "      <td>...</td>\n",
       "      <td>...</td>\n",
       "    </tr>\n",
       "    <tr>\n",
       "      <th>59006</th>\n",
       "      <td>3.6</td>\n",
       "      <td>48.584792</td>\n",
       "    </tr>\n",
       "    <tr>\n",
       "      <th>59007</th>\n",
       "      <td>3.6</td>\n",
       "      <td>70.884798</td>\n",
       "    </tr>\n",
       "    <tr>\n",
       "      <th>59008</th>\n",
       "      <td>3.6</td>\n",
       "      <td>52.028046</td>\n",
       "    </tr>\n",
       "    <tr>\n",
       "      <th>59009</th>\n",
       "      <td>3.6</td>\n",
       "      <td>34.276865</td>\n",
       "    </tr>\n",
       "    <tr>\n",
       "      <th>59010</th>\n",
       "      <td>3.6</td>\n",
       "      <td>49.819778</td>\n",
       "    </tr>\n",
       "  </tbody>\n",
       "</table>\n",
       "<p>53797 rows × 2 columns</p>\n",
       "</div>"
      ],
      "text/plain": [
       "       MT_Magnitude_       rjb_0\n",
       "0                5.0  201.366205\n",
       "1                5.0  212.569993\n",
       "2                5.0  160.594546\n",
       "3                5.0  195.256405\n",
       "4                5.0  220.505360\n",
       "...              ...         ...\n",
       "59006            3.6   48.584792\n",
       "59007            3.6   70.884798\n",
       "59008            3.6   52.028046\n",
       "59009            3.6   34.276865\n",
       "59010            3.6   49.819778\n",
       "\n",
       "[53797 rows x 2 columns]"
      ]
     },
     "execution_count": 11,
     "metadata": {},
     "output_type": "execute_result"
    }
   ],
   "source": [
    "input_var=df[['MT_Magnitude_','rjb_0']]\n",
    "input_var"
   ]
  },
  {
   "cell_type": "code",
   "execution_count": 12,
   "metadata": {},
   "outputs": [
    {
     "data": {
      "text/plain": [
       "array([[2.84160422],\n",
       "       [3.26170846],\n",
       "       [2.20738726],\n",
       "       ...,\n",
       "       [1.65029057],\n",
       "       [1.14970001],\n",
       "       [1.63266019]])"
      ]
     },
     "execution_count": 12,
     "metadata": {},
     "output_type": "execute_result"
    }
   ],
   "source": [
    "y_var=df[['_5_75']]\n",
    "y_var=np.log(y_var)\n",
    "y_var=np.array(y_var)\n",
    "y_var\n"
   ]
  },
  {
   "cell_type": "code",
   "execution_count": 13,
   "metadata": {},
   "outputs": [],
   "source": [
    "X_train, X_test, y_train, y_test=train_test_split(input_var,y_var,test_size=0.2,random_state=2)"
   ]
  },
  {
   "cell_type": "code",
   "execution_count": 14,
   "metadata": {},
   "outputs": [
    {
     "name": "stdout",
     "output_type": "stream",
     "text": [
      "MT_Magnitude_    4.536197\n",
      "dtype: float64\n",
      "MT_Magnitude_    0.769804\n",
      "dtype: float64\n",
      "rjb_0    113.709563\n",
      "dtype: float64\n",
      "rjb_0    67.130284\n",
      "dtype: float64\n"
     ]
    }
   ],
   "source": [
    "mean_mag=X_train[['MT_Magnitude_']].mean()\n",
    "std_mag=X_train[['MT_Magnitude_']].std()\n",
    "\n",
    "mean_dis=X_train[['rjb_0']].mean()\n",
    "std_dis=X_train[['rjb_0']].std()\n",
    "\n",
    "print(mean_mag)\n",
    "print(std_mag)\n",
    "\n",
    "print(mean_dis)\n",
    "print(std_dis)"
   ]
  },
  {
   "cell_type": "code",
   "execution_count": 15,
   "metadata": {},
   "outputs": [
    {
     "data": {
      "text/plain": [
       "array([[ 0.21278805, -1.09723007],\n",
       "       [-0.43673527, -0.81643295],\n",
       "       [ 0.08288338,  0.26813339],\n",
       "       ...,\n",
       "       [-0.43673527, -0.23729237],\n",
       "       [-0.43673527, -0.06117202],\n",
       "       [ 1.771644  , -0.06135486]])"
      ]
     },
     "execution_count": 15,
     "metadata": {},
     "output_type": "execute_result"
    }
   ],
   "source": [
    "X_train=preprocessing.scale(X_train)\n",
    "X_train"
   ]
  },
  {
   "cell_type": "code",
   "execution_count": 16,
   "metadata": {},
   "outputs": [
    {
     "name": "stderr",
     "output_type": "stream",
     "text": [
      "C:\\Users\\Dev\\anaconda3\\envs\\tf\\lib\\site-packages\\ipykernel_launcher.py:1: SettingWithCopyWarning: \n",
      "A value is trying to be set on a copy of a slice from a DataFrame.\n",
      "Try using .loc[row_indexer,col_indexer] = value instead\n",
      "\n",
      "See the caveats in the documentation: https://pandas.pydata.org/pandas-docs/stable/user_guide/indexing.html#returning-a-view-versus-a-copy\n",
      "  \"\"\"Entry point for launching an IPython kernel.\n",
      "C:\\Users\\Dev\\anaconda3\\envs\\tf\\lib\\site-packages\\ipykernel_launcher.py:2: SettingWithCopyWarning: \n",
      "A value is trying to be set on a copy of a slice from a DataFrame.\n",
      "Try using .loc[row_indexer,col_indexer] = value instead\n",
      "\n",
      "See the caveats in the documentation: https://pandas.pydata.org/pandas-docs/stable/user_guide/indexing.html#returning-a-view-versus-a-copy\n",
      "  \n"
     ]
    }
   ],
   "source": [
    "X_test['MT_Magnitude_']=(X_test['MT_Magnitude_']-4.536197)/0.769804\n",
    "X_test['rjb_0']=(X_test['rjb_0']-113.709563)/67.130284"
   ]
  },
  {
   "cell_type": "code",
   "execution_count": 17,
   "metadata": {},
   "outputs": [],
   "source": [
    "X_test=np.array(X_test)"
   ]
  },
  {
   "cell_type": "code",
   "execution_count": 18,
   "metadata": {},
   "outputs": [],
   "source": [
    "from tensorflow.keras.optimizers import Adam"
   ]
  },
  {
   "cell_type": "code",
   "execution_count": 19,
   "metadata": {},
   "outputs": [],
   "source": [
    "model1=Sequential([Dense(units=5, input_shape=(2,), activation='relu'),\n",
    "                 \n",
    "                  Dense(units=1, activation='linear')\n",
    "                 ])"
   ]
  },
  {
   "cell_type": "code",
   "execution_count": 20,
   "metadata": {},
   "outputs": [],
   "source": [
    "model1.compile(optimizer=Adam(learning_rate=.01),loss='mean_squared_error')"
   ]
  },
  {
   "cell_type": "code",
   "execution_count": 21,
   "metadata": {},
   "outputs": [
    {
     "name": "stdout",
     "output_type": "stream",
     "text": [
      "Train on 38733 samples, validate on 4304 samples\n",
      "Epoch 1/15\n",
      "38733/38733 [==============================] - 1s 23us/step - loss: 0.6316 - val_loss: 0.4517\n",
      "Epoch 2/15\n",
      "38733/38733 [==============================] - 1s 22us/step - loss: 0.4229 - val_loss: 0.4495\n",
      "Epoch 3/15\n",
      "38733/38733 [==============================] - 1s 22us/step - loss: 0.4189 - val_loss: 0.4312\n",
      "Epoch 4/15\n",
      "38733/38733 [==============================] - 1s 22us/step - loss: 0.4169 - val_loss: 0.4275\n",
      "Epoch 5/15\n",
      "38733/38733 [==============================] - 1s 22us/step - loss: 0.4167 - val_loss: 0.4280\n",
      "Epoch 6/15\n",
      "38733/38733 [==============================] - 1s 21us/step - loss: 0.4164 - val_loss: 0.4366\n",
      "Epoch 7/15\n",
      "38733/38733 [==============================] - 1s 21us/step - loss: 0.4153 - val_loss: 0.4302\n",
      "Epoch 8/15\n",
      "38733/38733 [==============================] - 1s 22us/step - loss: 0.4159 - val_loss: 0.4253\n",
      "Epoch 9/15\n",
      "38733/38733 [==============================] - 1s 21us/step - loss: 0.4154 - val_loss: 0.4426\n",
      "Epoch 10/15\n",
      "38733/38733 [==============================] - 1s 22us/step - loss: 0.4157 - val_loss: 0.4315\n",
      "Epoch 11/15\n",
      "38733/38733 [==============================] - 1s 22us/step - loss: 0.4142 - val_loss: 0.4274\n",
      "Epoch 12/15\n",
      "38733/38733 [==============================] - 1s 22us/step - loss: 0.4145 - val_loss: 0.4329\n",
      "Epoch 13/15\n",
      "38733/38733 [==============================] - 1s 22us/step - loss: 0.4147 - val_loss: 0.4284\n",
      "Epoch 14/15\n",
      "38733/38733 [==============================] - 1s 22us/step - loss: 0.4131 - val_loss: 0.4280\n",
      "Epoch 15/15\n",
      "38733/38733 [==============================] - 1s 23us/step - loss: 0.4145 - val_loss: 0.4285\n"
     ]
    },
    {
     "data": {
      "image/png": "[encoded data removed]",
      "text/plain": [
       "<Figure size 504x360 with 1 Axes>"
      ]
     },
     "metadata": {
      "needs_background": "light"
     },
     "output_type": "display_data"
    }
   ],
   "source": [
    "history=model1.fit(X_train, y_train,batch_size=64, epochs=15, validation_split=0.1, verbose=1)\n",
    "history_dict=history.history\n",
    "    \n",
    "loss_values= history_dict['loss']\n",
    "val_loss_values=history_dict['val_loss']\n",
    "plt.figure(figsize=(7,5))\n",
    "\n",
    "plt.plot(loss_values, 'bo', label='training loss')\n",
    "plt.plot(val_loss_values, 'r', label='val training loss')\n",
    "plt.legend(fontsize=10)\n",
    "\n",
    "\n",
    "plt.ylabel('Loss' ,fontsize=20)\n",
    "plt.xlabel('No. of epochs', fontsize=20)\n",
    "\n",
    "\n",
    "plt.tick_params(axis='both', which='major', labelsize=20)\n"
   ]
  },
  {
   "cell_type": "code",
   "execution_count": 22,
   "metadata": {},
   "outputs": [
    {
     "name": "stdout",
     "output_type": "stream",
     "text": [
      "R2 score on train set is :\t0.405\n",
      "R2 score on test set is :\t0.409\n"
     ]
    }
   ],
   "source": [
    "y_train_pred=model1.predict(X_train)\n",
    "y_test_pred=model1.predict(X_test)\n",
    "\n",
    "print('R2 score on train set is :\\t{:0.3f}'.format(r2_score(y_train, y_train_pred)))\n",
    "print('R2 score on test set is :\\t{:0.3f}'.format(r2_score(y_test, y_test_pred)))"
   ]
  },
  {
   "cell_type": "code",
   "execution_count": 23,
   "metadata": {},
   "outputs": [
    {
     "data": {
      "text/plain": [
       "Text(0.5, 1.0, 'Duration 5-75')"
      ]
     },
     "execution_count": 23,
     "metadata": {},
     "output_type": "execute_result"
    },
    {
     "data": {
      "image/png": "[encoded data removed]",
      "text/plain": [
       "<Figure size 432x288 with 1 Axes>"
      ]
     },
     "metadata": {
      "needs_background": "light"
     },
     "output_type": "display_data"
    }
   ],
   "source": [
    "error=y_test_pred-y_test\n",
    "\n",
    "plt.figure(figsize=(6,4))\n",
    "\n",
    "plt.hist(error, bins=25, color='grey')\n",
    "\n",
    "plt.xlabel('Prediction error',fontsize=12,weight='bold')\n",
    "plt.ylabel('Count',fontsize=12,weight='bold')\n",
    "plt.tick_params(axis='both', which='major', labelsize=12, length=8)\n",
    "plt.tick_params(axis='both', which='minor', labelsize=8, length=4)\n",
    "plt.minorticks_on()\n",
    "plt.title('Duration 5-75', fontsize=12,weight='bold')"
   ]
  },
  {
   "cell_type": "code",
   "execution_count": 24,
   "metadata": {},
   "outputs": [
    {
     "data": {
      "text/plain": [
       "array([[ 0.60218713,  1.30029062],\n",
       "       [ 0.60218713,  1.46695887],\n",
       "       [ 0.60218713,  0.69376887],\n",
       "       ...,\n",
       "       [-1.21555841, -0.9212732 ],\n",
       "       [-1.21555841, -1.18534087],\n",
       "       [-1.21555841, -0.95412353]])"
      ]
     },
     "execution_count": 24,
     "metadata": {},
     "output_type": "execute_result"
    }
   ],
   "source": [
    "X_data=np.array(preprocessing.scale(input_var))\n",
    "X_data"
   ]
  },
  {
   "cell_type": "code",
   "execution_count": 25,
   "metadata": {},
   "outputs": [
    {
     "data": {
      "text/plain": [
       "array([[2.7133994],\n",
       "       [2.7152004],\n",
       "       [2.7068462],\n",
       "       ...,\n",
       "       [1.9274015],\n",
       "       [1.5033519],\n",
       "       [1.9153514]], dtype=float32)"
      ]
     },
     "execution_count": 25,
     "metadata": {},
     "output_type": "execute_result"
    }
   ],
   "source": [
    "y_pred=model1.predict(X_data)\n",
    "y_pred"
   ]
  },
  {
   "cell_type": "code",
   "execution_count": 26,
   "metadata": {},
   "outputs": [
    {
     "data": {
      "text/html": [
       "<div>\n",
       "<style scoped>\n",
       "    .dataframe tbody tr th:only-of-type {\n",
       "        vertical-align: middle;\n",
       "    }\n",
       "\n",
       "    .dataframe tbody tr th {\n",
       "        vertical-align: top;\n",
       "    }\n",
       "\n",
       "    .dataframe thead th {\n",
       "        text-align: right;\n",
       "    }\n",
       "</style>\n",
       "<table border=\"1\" class=\"dataframe\">\n",
       "  <thead>\n",
       "    <tr style=\"text-align: right;\">\n",
       "      <th></th>\n",
       "      <th>_5_75</th>\n",
       "    </tr>\n",
       "  </thead>\n",
       "  <tbody>\n",
       "    <tr>\n",
       "      <th>0</th>\n",
       "      <td>2.841604</td>\n",
       "    </tr>\n",
       "    <tr>\n",
       "      <th>1</th>\n",
       "      <td>3.261708</td>\n",
       "    </tr>\n",
       "    <tr>\n",
       "      <th>2</th>\n",
       "      <td>2.207387</td>\n",
       "    </tr>\n",
       "    <tr>\n",
       "      <th>3</th>\n",
       "      <td>3.009010</td>\n",
       "    </tr>\n",
       "    <tr>\n",
       "      <th>4</th>\n",
       "      <td>3.400257</td>\n",
       "    </tr>\n",
       "    <tr>\n",
       "      <th>...</th>\n",
       "      <td>...</td>\n",
       "    </tr>\n",
       "    <tr>\n",
       "      <th>59006</th>\n",
       "      <td>1.371561</td>\n",
       "    </tr>\n",
       "    <tr>\n",
       "      <th>59007</th>\n",
       "      <td>1.798820</td>\n",
       "    </tr>\n",
       "    <tr>\n",
       "      <th>59008</th>\n",
       "      <td>1.650291</td>\n",
       "    </tr>\n",
       "    <tr>\n",
       "      <th>59009</th>\n",
       "      <td>1.149700</td>\n",
       "    </tr>\n",
       "    <tr>\n",
       "      <th>59010</th>\n",
       "      <td>1.632660</td>\n",
       "    </tr>\n",
       "  </tbody>\n",
       "</table>\n",
       "<p>53797 rows × 1 columns</p>\n",
       "</div>"
      ],
      "text/plain": [
       "          _5_75\n",
       "0      2.841604\n",
       "1      3.261708\n",
       "2      2.207387\n",
       "3      3.009010\n",
       "4      3.400257\n",
       "...         ...\n",
       "59006  1.371561\n",
       "59007  1.798820\n",
       "59008  1.650291\n",
       "59009  1.149700\n",
       "59010  1.632660\n",
       "\n",
       "[53797 rows x 1 columns]"
      ]
     },
     "execution_count": 26,
     "metadata": {},
     "output_type": "execute_result"
    }
   ],
   "source": [
    "output_y=df[['_5_75']]\n",
    "output_y=np.log(output_y)\n",
    "output_y"
   ]
  },
  {
   "cell_type": "code",
   "execution_count": 27,
   "metadata": {},
   "outputs": [
    {
     "data": {
      "text/plain": [
       "_5_75    3.658012\n",
       "dtype: float64"
      ]
     },
     "execution_count": 27,
     "metadata": {},
     "output_type": "execute_result"
    }
   ],
   "source": [
    "residual=output_y-y_pred\n",
    "residual.max()"
   ]
  },
  {
   "cell_type": "code",
   "execution_count": 28,
   "metadata": {},
   "outputs": [],
   "source": [
    "mag=input_var['MT_Magnitude_']\n",
    "dis=input_var['rjb_0']\n"
   ]
  },
  {
   "cell_type": "code",
   "execution_count": 29,
   "metadata": {},
   "outputs": [
    {
     "data": {
      "text/plain": [
       "(53797, 3)"
      ]
     },
     "execution_count": 29,
     "metadata": {},
     "output_type": "execute_result"
    }
   ],
   "source": [
    "calc=pd.concat([mag,dis,residual], axis=1)\n",
    "calc.shape"
   ]
  },
  {
   "cell_type": "code",
   "execution_count": 30,
   "metadata": {},
   "outputs": [
    {
     "data": {
      "text/plain": [
       "array([-0.04902382, -0.05367536, -0.05981916,  0.02844659,  0.0512692 ,\n",
       "        0.04647665,  0.00178544,  0.06146017])"
      ]
     },
     "execution_count": 30,
     "metadata": {},
     "output_type": "execute_result"
    }
   ],
   "source": [
    "a=[]\n",
    "for i in np.arange(3.5,7.5,0.5):\n",
    "    b=calc[(calc.MT_Magnitude_ >= i ) & (calc.MT_Magnitude_ <=i+0.5)]._5_75.mean()\n",
    "    a.append(b)\n",
    "    \n",
    "a=np.array(a)\n",
    "a\n"
   ]
  },
  {
   "cell_type": "code",
   "execution_count": 31,
   "metadata": {},
   "outputs": [],
   "source": [
    "from numpy import arange\n",
    "c=[]\n",
    "for i in arange(3.5,7.5,0.5):\n",
    "    c.append(i)"
   ]
  },
  {
   "cell_type": "code",
   "execution_count": 32,
   "metadata": {},
   "outputs": [
    {
     "data": {
      "image/png": "[encoded data removed]",
      "text/plain": [
       "<Figure size 432x288 with 1 Axes>"
      ]
     },
     "metadata": {
      "needs_background": "light"
     },
     "output_type": "display_data"
    }
   ],
   "source": [
    "x=input_var['MT_Magnitude_']\n",
    "y=residual['_5_75']\n",
    "plt.figure(figsize=(6,4))\n",
    "plt.hlines(y=0,xmin=3.5, xmax=7.5,color='k',linestyle='--',lw=3)\n",
    "#sns.scatterplot(d,a, marker='o', color='red',s=200)\n",
    "sns.scatterplot(x,y, marker='o', color='grey', s=50)\n",
    "sns.scatterplot(c,a, marker='o',s=200,color= 'maroon')\n",
    "plt.ylabel('$\\Delta$es', size=12, weight='bold')\n",
    "plt.xlabel('Magnitude($Mw$)', size=12,weight='bold')\n",
    "#plt.xlim(0,150)\n",
    "plt.tick_params(axis='both', which='major', labelsize=12,length=8)\n",
    "plt.title('Dur_5-75(sec)',weight='bold')\n",
    "plt.minorticks_on()\n",
    "plt.tick_params(axis='both', which='minor', labelsize=8,length=4)\n"
   ]
  },
  {
   "cell_type": "code",
   "execution_count": 33,
   "metadata": {},
   "outputs": [
    {
     "data": {
      "text/plain": [
       "array([-0.14193875, -0.01381733, -0.05557101, -0.01709979, -0.02814552,\n",
       "       -0.07785914, -0.08644383, -0.01799039,  0.03764083,  0.07635226,\n",
       "        0.12761713,  0.15930643])"
      ]
     },
     "execution_count": 33,
     "metadata": {},
     "output_type": "execute_result"
    }
   ],
   "source": [
    "ba=[]\n",
    "for i in np.arange(0,300,25):\n",
    "    b=calc[(calc.rjb_0 >= i ) & (calc.rjb_0 <=i+25)]._5_75.mean()\n",
    "    a.append(b)\n",
    "    \n",
    "a=np.array(a)\n",
    "a\n"
   ]
  },
  {
   "cell_type": "code",
   "execution_count": null,
   "metadata": {},
   "outputs": [],
   "source": []
  },
  {
   "cell_type": "code",
   "execution_count": 34,
   "metadata": {},
   "outputs": [
    {
     "data": {
      "text/plain": [
       "[0, 25, 50, 75, 100, 125, 150, 175, 200, 225, 250, 275]"
      ]
     },
     "execution_count": 34,
     "metadata": {},
     "output_type": "execute_result"
    }
   ],
   "source": [
    "c=[]\n",
    "for i in range(0,300,25):\n",
    "    c.append(i)\n",
    "c    "
   ]
  },
  {
   "cell_type": "code",
   "execution_count": 35,
   "metadata": {},
   "outputs": [
    {
     "data": {
      "image/png": "[encoded data removed]",
      "text/plain": [
       "<Figure size 432x288 with 1 Axes>"
      ]
     },
     "metadata": {
      "needs_background": "light"
     },
     "output_type": "display_data"
    }
   ],
   "source": [
    "x=input_var['rjb_0']\n",
    "y=residual['_5_75']\n",
    "plt.figure(figsize=(6,4))\n",
    "plt.hlines(y=0,xmin=300, xmax=7.5,color='k',linestyle='--',lw=3)\n",
    "#sns.scatterplot(d,a, marker='o', color='red',s=200)\n",
    "sns.scatterplot(x,y, marker='o', color='grey', s=50)\n",
    "sns.scatterplot(c,a, marker='o',s=200,color= 'maroon')\n",
    "plt.ylabel('$\\Delta$es', size=12, weight='bold')\n",
    "\n",
    "plt.xlabel('Joyner Boore Distance ($Rjb$)', size=12, weight='bold')\n",
    "#plt.xlim(0,150)\n",
    "plt.tick_params(axis='both', which='major', labelsize=12, length=8)\n",
    "plt.title('Dur 5-75(sec)',weight='bold')\n",
    "plt.minorticks_on()\n",
    "plt.tick_params(axis='both', which='minor', labelsize=8,length=4)"
   ]
  },
  {
   "cell_type": "code",
   "execution_count": 36,
   "metadata": {},
   "outputs": [
    {
     "data": {
      "text/plain": [
       "(52251, 12)"
      ]
     },
     "execution_count": 36,
     "metadata": {},
     "output_type": "execute_result"
    }
   ],
   "source": [
    "df1=pd.read_csv('borehole_data.csv')\n",
    "df1.isnull().any()\n",
    "df1.shape"
   ]
  },
  {
   "cell_type": "code",
   "execution_count": 37,
   "metadata": {},
   "outputs": [],
   "source": [
    "input_var=df1[['MT_Magnitude_','rjb_0']]"
   ]
  },
  {
   "cell_type": "code",
   "execution_count": 38,
   "metadata": {},
   "outputs": [
    {
     "data": {
      "text/plain": [
       "array([[2.46357684],\n",
       "       [3.56820481],\n",
       "       [3.84694415],\n",
       "       ...,\n",
       "       [1.56325525],\n",
       "       [1.69296065],\n",
       "       [1.51338528]])"
      ]
     },
     "execution_count": 38,
     "metadata": {},
     "output_type": "execute_result"
    }
   ],
   "source": [
    "y_var=df1[['_5_75']]\n",
    "y_var=np.log(y_var)\n",
    "y_var=np.array(y_var)\n",
    "y_var"
   ]
  },
  {
   "cell_type": "code",
   "execution_count": 39,
   "metadata": {},
   "outputs": [],
   "source": [
    "X_train, X_test, y_train, y_test=train_test_split(input_var,y_var,test_size=0.2,random_state=2)"
   ]
  },
  {
   "cell_type": "code",
   "execution_count": 40,
   "metadata": {},
   "outputs": [],
   "source": [
    "X_train=preprocessing.scale(X_train)\n",
    "X_test=preprocessing.scale(X_test)"
   ]
  },
  {
   "cell_type": "code",
   "execution_count": 41,
   "metadata": {},
   "outputs": [],
   "source": [
    "from tensorflow.keras.optimizers import Adam"
   ]
  },
  {
   "cell_type": "code",
   "execution_count": 42,
   "metadata": {},
   "outputs": [],
   "source": [
    "model2=Sequential([Dense(units=5, input_shape=(2,), activation='relu'),\n",
    "                 \n",
    "                  Dense(units=1, activation='linear')\n",
    "                 ])"
   ]
  },
  {
   "cell_type": "code",
   "execution_count": 43,
   "metadata": {},
   "outputs": [],
   "source": [
    "model2.compile(optimizer=Adam(learning_rate=0.01),loss='mean_squared_error')"
   ]
  },
  {
   "cell_type": "code",
   "execution_count": 44,
   "metadata": {},
   "outputs": [
    {
     "name": "stdout",
     "output_type": "stream",
     "text": [
      "Train on 37620 samples, validate on 4180 samples\n",
      "Epoch 1/20\n",
      "37620/37620 [==============================] - 0s 13us/step - loss: 0.9936 - val_loss: 0.4093\n",
      "Epoch 2/20\n",
      "37620/37620 [==============================] - 0s 12us/step - loss: 0.4076 - val_loss: 0.3921\n",
      "Epoch 3/20\n",
      "37620/37620 [==============================] - 0s 12us/step - loss: 0.3970 - val_loss: 0.3866\n",
      "Epoch 4/20\n",
      "37620/37620 [==============================] - 0s 13us/step - loss: 0.3929 - val_loss: 0.3825\n",
      "Epoch 5/20\n",
      "37620/37620 [==============================] - 0s 11us/step - loss: 0.3915 - val_loss: 0.3826\n",
      "Epoch 6/20\n",
      "37620/37620 [==============================] - 0s 12us/step - loss: 0.3911 - val_loss: 0.3810\n",
      "Epoch 7/20\n",
      "37620/37620 [==============================] - 0s 11us/step - loss: 0.3908 - val_loss: 0.3841\n",
      "Epoch 8/20\n",
      "37620/37620 [==============================] - 0s 11us/step - loss: 0.3921 - val_loss: 0.3819\n",
      "Epoch 9/20\n",
      "37620/37620 [==============================] - 0s 12us/step - loss: 0.3921 - val_loss: 0.3803\n",
      "Epoch 10/20\n",
      "37620/37620 [==============================] - 0s 12us/step - loss: 0.3917 - val_loss: 0.3807\n",
      "Epoch 11/20\n",
      "37620/37620 [==============================] - 0s 11us/step - loss: 0.3909 - val_loss: 0.3858\n",
      "Epoch 12/20\n",
      "37620/37620 [==============================] - 0s 11us/step - loss: 0.3920 - val_loss: 0.3815\n",
      "Epoch 13/20\n",
      "37620/37620 [==============================] - 0s 11us/step - loss: 0.3911 - val_loss: 0.3826\n",
      "Epoch 14/20\n",
      "37620/37620 [==============================] - 0s 11us/step - loss: 0.3916 - val_loss: 0.3812\n",
      "Epoch 15/20\n",
      "37620/37620 [==============================] - 0s 13us/step - loss: 0.3916 - val_loss: 0.3832\n",
      "Epoch 16/20\n",
      "37620/37620 [==============================] - 0s 12us/step - loss: 0.3907 - val_loss: 0.3804\n",
      "Epoch 17/20\n",
      "37620/37620 [==============================] - 0s 11us/step - loss: 0.3913 - val_loss: 0.3865\n",
      "Epoch 18/20\n",
      "37620/37620 [==============================] - 0s 12us/step - loss: 0.3919 - val_loss: 0.3840\n",
      "Epoch 19/20\n",
      "37620/37620 [==============================] - 0s 12us/step - loss: 0.3911 - val_loss: 0.3859\n",
      "Epoch 20/20\n",
      "37620/37620 [==============================] - 0s 11us/step - loss: 0.3918 - val_loss: 0.3827\n"
     ]
    },
    {
     "data": {
      "image/png": "[encoded data removed]",
      "text/plain": [
       "<Figure size 504x360 with 1 Axes>"
      ]
     },
     "metadata": {
      "needs_background": "light"
     },
     "output_type": "display_data"
    }
   ],
   "source": [
    "history=model2.fit(X_train, y_train,batch_size=128, epochs=20, validation_split=0.1, verbose=1)\n",
    "history_dict=history.history\n",
    "    \n",
    "loss_values= history_dict['loss']\n",
    "val_loss_values=history_dict['val_loss']\n",
    "plt.figure(figsize=(7,5))\n",
    "\n",
    "plt.plot(loss_values, 'bo', label='training loss')\n",
    "plt.plot(val_loss_values, 'r', label='val training loss')\n",
    "plt.legend(fontsize=10)\n",
    "\n",
    "\n",
    "plt.ylabel('Loss' ,fontsize=20)\n",
    "plt.xlabel('No. of epochs', fontsize=20)\n",
    "\n",
    "\n",
    "plt.tick_params(axis='both', which='major', labelsize=20)\n"
   ]
  },
  {
   "cell_type": "code",
   "execution_count": 45,
   "metadata": {},
   "outputs": [
    {
     "name": "stdout",
     "output_type": "stream",
     "text": [
      "R2 score on train set is :\t0.462\n",
      "R2 score on test set is :\t0.464\n"
     ]
    }
   ],
   "source": [
    "y_train_pred=model2.predict(X_train)\n",
    "y_test_pred=model2.predict(X_test)\n",
    "\n",
    "print('R2 score on train set is :\\t{:0.3f}'.format(r2_score(y_train, y_train_pred)))\n",
    "print('R2 score on test set is :\\t{:0.3f}'.format(r2_score(y_test, y_test_pred)))"
   ]
  },
  {
   "cell_type": "code",
   "execution_count": 46,
   "metadata": {},
   "outputs": [
    {
     "data": {
      "text/plain": [
       "Text(0.5, 1.0, 'Duration 5-75(Borehole)')"
      ]
     },
     "execution_count": 46,
     "metadata": {},
     "output_type": "execute_result"
    },
    {
     "data": {
      "image/png": "[encoded data removed]",
      "text/plain": [
       "<Figure size 432x288 with 1 Axes>"
      ]
     },
     "metadata": {
      "needs_background": "light"
     },
     "output_type": "display_data"
    }
   ],
   "source": [
    "error=y_test_pred-y_test\n",
    "\n",
    "plt.figure(figsize=(6,4))\n",
    "\n",
    "plt.hist(error, bins=25, color='grey')\n",
    "\n",
    "plt.xlabel('Prediction error',fontsize=12,weight='bold')\n",
    "plt.xlim(-3,3)\n",
    "plt.ylabel('Count',fontsize=12,weight='bold')\n",
    "plt.tick_params(axis='both', which='major', labelsize=12, length=8)\n",
    "plt.tick_params(axis='both', which='minor', labelsize=8, length=4)\n",
    "plt.minorticks_on()\n",
    "plt.title('Duration 5-75(Borehole)', fontsize=12,weight='bold')"
   ]
  },
  {
   "cell_type": "code",
   "execution_count": 47,
   "metadata": {},
   "outputs": [
    {
     "data": {
      "text/plain": [
       "array([[ 0.58977663,  1.76886648],\n",
       "       [ 2.1410688 ,  1.37557327],\n",
       "       [ 2.1410688 ,  1.58582329],\n",
       "       ...,\n",
       "       [-1.22006423, -0.92183128],\n",
       "       [-1.22006423, -1.18504777],\n",
       "       [-1.22006423, -0.95457571]])"
      ]
     },
     "execution_count": 47,
     "metadata": {},
     "output_type": "execute_result"
    }
   ],
   "source": [
    "X_data=np.array(preprocessing.scale(input_var))\n",
    "X_data"
   ]
  },
  {
   "cell_type": "code",
   "execution_count": 48,
   "metadata": {},
   "outputs": [
    {
     "data": {
      "text/plain": [
       "array([[2.8455493],\n",
       "       [3.3587205],\n",
       "       [3.4446912],\n",
       "       ...,\n",
       "       [1.8611755],\n",
       "       [1.4706688],\n",
       "       [1.8530238]], dtype=float32)"
      ]
     },
     "execution_count": 48,
     "metadata": {},
     "output_type": "execute_result"
    }
   ],
   "source": [
    "y_pred=model2.predict(X_data)\n",
    "y_pred"
   ]
  },
  {
   "cell_type": "code",
   "execution_count": 49,
   "metadata": {},
   "outputs": [
    {
     "data": {
      "text/html": [
       "<div>\n",
       "<style scoped>\n",
       "    .dataframe tbody tr th:only-of-type {\n",
       "        vertical-align: middle;\n",
       "    }\n",
       "\n",
       "    .dataframe tbody tr th {\n",
       "        vertical-align: top;\n",
       "    }\n",
       "\n",
       "    .dataframe thead th {\n",
       "        text-align: right;\n",
       "    }\n",
       "</style>\n",
       "<table border=\"1\" class=\"dataframe\">\n",
       "  <thead>\n",
       "    <tr style=\"text-align: right;\">\n",
       "      <th></th>\n",
       "      <th>_5_75</th>\n",
       "    </tr>\n",
       "  </thead>\n",
       "  <tbody>\n",
       "    <tr>\n",
       "      <th>0</th>\n",
       "      <td>2.463577</td>\n",
       "    </tr>\n",
       "    <tr>\n",
       "      <th>1</th>\n",
       "      <td>3.568205</td>\n",
       "    </tr>\n",
       "    <tr>\n",
       "      <th>2</th>\n",
       "      <td>3.846944</td>\n",
       "    </tr>\n",
       "    <tr>\n",
       "      <th>3</th>\n",
       "      <td>3.676766</td>\n",
       "    </tr>\n",
       "    <tr>\n",
       "      <th>4</th>\n",
       "      <td>3.529717</td>\n",
       "    </tr>\n",
       "    <tr>\n",
       "      <th>...</th>\n",
       "      <td>...</td>\n",
       "    </tr>\n",
       "    <tr>\n",
       "      <th>52246</th>\n",
       "      <td>1.975306</td>\n",
       "    </tr>\n",
       "    <tr>\n",
       "      <th>52247</th>\n",
       "      <td>2.291749</td>\n",
       "    </tr>\n",
       "    <tr>\n",
       "      <th>52248</th>\n",
       "      <td>1.563255</td>\n",
       "    </tr>\n",
       "    <tr>\n",
       "      <th>52249</th>\n",
       "      <td>1.692961</td>\n",
       "    </tr>\n",
       "    <tr>\n",
       "      <th>52250</th>\n",
       "      <td>1.513385</td>\n",
       "    </tr>\n",
       "  </tbody>\n",
       "</table>\n",
       "<p>52251 rows × 1 columns</p>\n",
       "</div>"
      ],
      "text/plain": [
       "          _5_75\n",
       "0      2.463577\n",
       "1      3.568205\n",
       "2      3.846944\n",
       "3      3.676766\n",
       "4      3.529717\n",
       "...         ...\n",
       "52246  1.975306\n",
       "52247  2.291749\n",
       "52248  1.563255\n",
       "52249  1.692961\n",
       "52250  1.513385\n",
       "\n",
       "[52251 rows x 1 columns]"
      ]
     },
     "execution_count": 49,
     "metadata": {},
     "output_type": "execute_result"
    }
   ],
   "source": [
    "output_y=df1[['_5_75']]\n",
    "output_y=np.log(output_y)\n",
    "output_y"
   ]
  },
  {
   "cell_type": "code",
   "execution_count": 50,
   "metadata": {},
   "outputs": [
    {
     "data": {
      "text/plain": [
       "_5_75    4.333695\n",
       "dtype: float64"
      ]
     },
     "execution_count": 50,
     "metadata": {},
     "output_type": "execute_result"
    }
   ],
   "source": [
    "residual=output_y-y_pred\n",
    "residual.max()"
   ]
  },
  {
   "cell_type": "code",
   "execution_count": 51,
   "metadata": {},
   "outputs": [],
   "source": [
    "mag=input_var['MT_Magnitude_']\n",
    "dis=input_var['rjb_0']"
   ]
  },
  {
   "cell_type": "code",
   "execution_count": 52,
   "metadata": {},
   "outputs": [
    {
     "data": {
      "text/plain": [
       "(52251, 3)"
      ]
     },
     "execution_count": 52,
     "metadata": {},
     "output_type": "execute_result"
    }
   ],
   "source": [
    "calc=pd.concat([mag,dis,residual], axis=1)\n",
    "calc.shape"
   ]
  },
  {
   "cell_type": "code",
   "execution_count": 53,
   "metadata": {},
   "outputs": [
    {
     "data": {
      "text/plain": [
       "array([ 0.0477798 ,  0.00806935,  0.00105605,  0.02911327, -0.006416  ,\n",
       "       -0.06437808, -0.20945033, -0.09495523])"
      ]
     },
     "execution_count": 53,
     "metadata": {},
     "output_type": "execute_result"
    }
   ],
   "source": [
    "a=[]\n",
    "for i in np.arange(3.5,7.5,0.5):\n",
    "    b=calc[(calc.MT_Magnitude_ >= i ) & (calc.MT_Magnitude_ <=i+0.5)]._5_75.mean()\n",
    "    a.append(b)\n",
    "    \n",
    "a=np.array(a)\n",
    "a\n"
   ]
  },
  {
   "cell_type": "code",
   "execution_count": 54,
   "metadata": {},
   "outputs": [],
   "source": [
    "from numpy import arange\n",
    "c=[]\n",
    "for i in arange(3.5,7.5,0.5):\n",
    "    c.append(i)"
   ]
  },
  {
   "cell_type": "code",
   "execution_count": 55,
   "metadata": {},
   "outputs": [
    {
     "data": {
      "image/png": "[encoded data removed]",
      "text/plain": [
       "<Figure size 432x288 with 1 Axes>"
      ]
     },
     "metadata": {
      "needs_background": "light"
     },
     "output_type": "display_data"
    }
   ],
   "source": [
    "x=input_var['MT_Magnitude_']\n",
    "y=residual['_5_75']\n",
    "plt.figure(figsize=(6,4))\n",
    "plt.hlines(y=0,xmin=3.5, xmax=7.5,color='k',linestyle='--',lw=3)\n",
    "#sns.scatterplot(d,a, marker='o', color='red',s=200)\n",
    "sns.scatterplot(x,y, marker='o', color='grey', s=50)\n",
    "sns.scatterplot(c,a, marker='o',s=200,color= 'maroon')\n",
    "plt.ylabel('$\\Delta$es', size=12, weight='bold')\n",
    "plt.xlabel('Magnitude($Mw$)', size=12,weight='bold')\n",
    "#plt.xlim(0,150)\n",
    "plt.tick_params(axis='both', which='major', labelsize=12,length=8)\n",
    "plt.title('Dur_5-75(sec)',weight='bold')\n",
    "plt.minorticks_on()\n",
    "plt.tick_params(axis='both', which='minor', labelsize=8,length=4)\n"
   ]
  },
  {
   "cell_type": "code",
   "execution_count": 56,
   "metadata": {},
   "outputs": [
    {
     "data": {
      "text/plain": [
       "array([-0.01267619, -0.0367287 ,  0.01738783,  0.06762172,  0.06005027,\n",
       "       -0.02516334, -0.03828808, -0.01262368,  0.03822587,  0.03059033,\n",
       "        0.01835315, -0.00824851])"
      ]
     },
     "execution_count": 56,
     "metadata": {},
     "output_type": "execute_result"
    }
   ],
   "source": [
    "a=[]\n",
    "for i in np.arange(0,300,25):\n",
    "    b=calc[(calc.rjb_0 >= i ) & (calc.rjb_0 <=i+25)]._5_75.mean()\n",
    "    a.append(b)\n",
    "    \n",
    "a=np.array(a)\n",
    "a\n"
   ]
  },
  {
   "cell_type": "code",
   "execution_count": 57,
   "metadata": {},
   "outputs": [
    {
     "data": {
      "text/plain": [
       "[0, 25, 50, 75, 100, 125, 150, 175, 200, 225, 250, 275]"
      ]
     },
     "execution_count": 57,
     "metadata": {},
     "output_type": "execute_result"
    }
   ],
   "source": [
    "c=[]\n",
    "for i in range(0,300,25):\n",
    "    c.append(i)\n",
    "c   "
   ]
  },
  {
   "cell_type": "code",
   "execution_count": 58,
   "metadata": {},
   "outputs": [
    {
     "data": {
      "image/png": "[encoded data removed]",
      "text/plain": [
       "<Figure size 504x360 with 1 Axes>"
      ]
     },
     "metadata": {
      "needs_background": "light"
     },
     "output_type": "display_data"
    }
   ],
   "source": [
    "x=input_var['rjb_0']\n",
    "y=residual['_5_75']\n",
    "plt.figure(figsize=(7,5))\n",
    "plt.hlines(y=0,xmin=300, xmax=7.5,color='k',linestyle='--',lw=3)\n",
    "#sns.scatterplot(d,a, marker='o', color='red',s=200)\n",
    "sns.scatterplot(x,y, marker='o', color='grey', s=50)\n",
    "sns.scatterplot(c,a, marker='o',s=200,color= 'maroon')\n",
    "plt.ylabel('$\\Delta$es', size=12, weight='bold')\n",
    "plt.xlabel('Joyner Boore Distance ($Rjb$)', size=12,weight='bold')\n",
    "#plt.xlim(0,150)\n",
    "\n",
    "plt.title('Dur_5_75')\n",
    "plt.tick_params(axis='both', which='major', labelsize=12,length=8)\n",
    "plt.title('Dur_5-75(sec)',weight='bold')\n",
    "plt.minorticks_on()\n",
    "plt.tick_params(axis='both', which='minor', labelsize=8,length=4)\n"
   ]
  },
  {
   "cell_type": "code",
   "execution_count": 59,
   "metadata": {},
   "outputs": [],
   "source": [
    "Mag1=[]\n",
    "i=0\n",
    "while i<28:\n",
    "    Mag1.append(5)\n",
    "    i+=1\n",
    "Dis1=[]\n",
    "for i in range(20,300,10):\n",
    "    a=i+10\n",
    "    Dis1.append(a)"
   ]
  },
  {
   "cell_type": "code",
   "execution_count": 60,
   "metadata": {},
   "outputs": [
    {
     "data": {
      "text/html": [
       "<div>\n",
       "<style scoped>\n",
       "    .dataframe tbody tr th:only-of-type {\n",
       "        vertical-align: middle;\n",
       "    }\n",
       "\n",
       "    .dataframe tbody tr th {\n",
       "        vertical-align: top;\n",
       "    }\n",
       "\n",
       "    .dataframe thead th {\n",
       "        text-align: right;\n",
       "    }\n",
       "</style>\n",
       "<table border=\"1\" class=\"dataframe\">\n",
       "  <thead>\n",
       "    <tr style=\"text-align: right;\">\n",
       "      <th></th>\n",
       "      <th>Mag</th>\n",
       "      <th>Dis</th>\n",
       "    </tr>\n",
       "  </thead>\n",
       "  <tbody>\n",
       "    <tr>\n",
       "      <th>0</th>\n",
       "      <td>5</td>\n",
       "      <td>30</td>\n",
       "    </tr>\n",
       "    <tr>\n",
       "      <th>1</th>\n",
       "      <td>5</td>\n",
       "      <td>40</td>\n",
       "    </tr>\n",
       "    <tr>\n",
       "      <th>2</th>\n",
       "      <td>5</td>\n",
       "      <td>50</td>\n",
       "    </tr>\n",
       "    <tr>\n",
       "      <th>3</th>\n",
       "      <td>5</td>\n",
       "      <td>60</td>\n",
       "    </tr>\n",
       "    <tr>\n",
       "      <th>4</th>\n",
       "      <td>5</td>\n",
       "      <td>70</td>\n",
       "    </tr>\n",
       "    <tr>\n",
       "      <th>5</th>\n",
       "      <td>5</td>\n",
       "      <td>80</td>\n",
       "    </tr>\n",
       "    <tr>\n",
       "      <th>6</th>\n",
       "      <td>5</td>\n",
       "      <td>90</td>\n",
       "    </tr>\n",
       "    <tr>\n",
       "      <th>7</th>\n",
       "      <td>5</td>\n",
       "      <td>100</td>\n",
       "    </tr>\n",
       "    <tr>\n",
       "      <th>8</th>\n",
       "      <td>5</td>\n",
       "      <td>110</td>\n",
       "    </tr>\n",
       "    <tr>\n",
       "      <th>9</th>\n",
       "      <td>5</td>\n",
       "      <td>120</td>\n",
       "    </tr>\n",
       "    <tr>\n",
       "      <th>10</th>\n",
       "      <td>5</td>\n",
       "      <td>130</td>\n",
       "    </tr>\n",
       "    <tr>\n",
       "      <th>11</th>\n",
       "      <td>5</td>\n",
       "      <td>140</td>\n",
       "    </tr>\n",
       "    <tr>\n",
       "      <th>12</th>\n",
       "      <td>5</td>\n",
       "      <td>150</td>\n",
       "    </tr>\n",
       "    <tr>\n",
       "      <th>13</th>\n",
       "      <td>5</td>\n",
       "      <td>160</td>\n",
       "    </tr>\n",
       "    <tr>\n",
       "      <th>14</th>\n",
       "      <td>5</td>\n",
       "      <td>170</td>\n",
       "    </tr>\n",
       "    <tr>\n",
       "      <th>15</th>\n",
       "      <td>5</td>\n",
       "      <td>180</td>\n",
       "    </tr>\n",
       "    <tr>\n",
       "      <th>16</th>\n",
       "      <td>5</td>\n",
       "      <td>190</td>\n",
       "    </tr>\n",
       "    <tr>\n",
       "      <th>17</th>\n",
       "      <td>5</td>\n",
       "      <td>200</td>\n",
       "    </tr>\n",
       "    <tr>\n",
       "      <th>18</th>\n",
       "      <td>5</td>\n",
       "      <td>210</td>\n",
       "    </tr>\n",
       "    <tr>\n",
       "      <th>19</th>\n",
       "      <td>5</td>\n",
       "      <td>220</td>\n",
       "    </tr>\n",
       "    <tr>\n",
       "      <th>20</th>\n",
       "      <td>5</td>\n",
       "      <td>230</td>\n",
       "    </tr>\n",
       "    <tr>\n",
       "      <th>21</th>\n",
       "      <td>5</td>\n",
       "      <td>240</td>\n",
       "    </tr>\n",
       "    <tr>\n",
       "      <th>22</th>\n",
       "      <td>5</td>\n",
       "      <td>250</td>\n",
       "    </tr>\n",
       "    <tr>\n",
       "      <th>23</th>\n",
       "      <td>5</td>\n",
       "      <td>260</td>\n",
       "    </tr>\n",
       "    <tr>\n",
       "      <th>24</th>\n",
       "      <td>5</td>\n",
       "      <td>270</td>\n",
       "    </tr>\n",
       "    <tr>\n",
       "      <th>25</th>\n",
       "      <td>5</td>\n",
       "      <td>280</td>\n",
       "    </tr>\n",
       "    <tr>\n",
       "      <th>26</th>\n",
       "      <td>5</td>\n",
       "      <td>290</td>\n",
       "    </tr>\n",
       "    <tr>\n",
       "      <th>27</th>\n",
       "      <td>5</td>\n",
       "      <td>300</td>\n",
       "    </tr>\n",
       "  </tbody>\n",
       "</table>\n",
       "</div>"
      ],
      "text/plain": [
       "    Mag  Dis\n",
       "0     5   30\n",
       "1     5   40\n",
       "2     5   50\n",
       "3     5   60\n",
       "4     5   70\n",
       "5     5   80\n",
       "6     5   90\n",
       "7     5  100\n",
       "8     5  110\n",
       "9     5  120\n",
       "10    5  130\n",
       "11    5  140\n",
       "12    5  150\n",
       "13    5  160\n",
       "14    5  170\n",
       "15    5  180\n",
       "16    5  190\n",
       "17    5  200\n",
       "18    5  210\n",
       "19    5  220\n",
       "20    5  230\n",
       "21    5  240\n",
       "22    5  250\n",
       "23    5  260\n",
       "24    5  270\n",
       "25    5  280\n",
       "26    5  290\n",
       "27    5  300"
      ]
     },
     "execution_count": 60,
     "metadata": {},
     "output_type": "execute_result"
    }
   ],
   "source": [
    "Mag1=np.array(Mag1)\n",
    "Dis1=np.array(Dis1)\n",
    "li2=[Mag1,Dis1]\n",
    "df2=pd.DataFrame(li2)\n",
    "df2=df2.T\n",
    "df2.columns=['Mag','Dis']\n",
    "df2"
   ]
  },
  {
   "cell_type": "code",
   "execution_count": 61,
   "metadata": {},
   "outputs": [],
   "source": [
    "mag=[]\n",
    "dis=[]\n",
    "\n",
    "for i in range(0,28):\n",
    "    mag_new=(Mag1[i]-4.543165)/0.774058\n",
    "    dis_new=(Dis1[i]-114.286183)/67.408356\n",
    "    \n",
    "    mag.append(mag_new)\n",
    "    dis.append(dis_new)"
   ]
  },
  {
   "cell_type": "code",
   "execution_count": 62,
   "metadata": {},
   "outputs": [
    {
     "data": {
      "text/plain": [
       "array([[ 0.59018187, -1.25038182],\n",
       "       [ 0.59018187, -1.10203226],\n",
       "       [ 0.59018187, -0.9536827 ],\n",
       "       [ 0.59018187, -0.80533314],\n",
       "       [ 0.59018187, -0.65698358],\n",
       "       [ 0.59018187, -0.50863402],\n",
       "       [ 0.59018187, -0.36028446],\n",
       "       [ 0.59018187, -0.2119349 ],\n",
       "       [ 0.59018187, -0.06358534],\n",
       "       [ 0.59018187,  0.08476422],\n",
       "       [ 0.59018187,  0.23311378],\n",
       "       [ 0.59018187,  0.38146335],\n",
       "       [ 0.59018187,  0.52981291],\n",
       "       [ 0.59018187,  0.67816247],\n",
       "       [ 0.59018187,  0.82651203],\n",
       "       [ 0.59018187,  0.97486159],\n",
       "       [ 0.59018187,  1.12321115],\n",
       "       [ 0.59018187,  1.27156071],\n",
       "       [ 0.59018187,  1.41991027],\n",
       "       [ 0.59018187,  1.56825983],\n",
       "       [ 0.59018187,  1.71660939],\n",
       "       [ 0.59018187,  1.86495895],\n",
       "       [ 0.59018187,  2.01330851],\n",
       "       [ 0.59018187,  2.16165807],\n",
       "       [ 0.59018187,  2.31000763],\n",
       "       [ 0.59018187,  2.4583572 ],\n",
       "       [ 0.59018187,  2.60670676],\n",
       "       [ 0.59018187,  2.75505632]])"
      ]
     },
     "execution_count": 62,
     "metadata": {},
     "output_type": "execute_result"
    }
   ],
   "source": [
    "li3=[mag,dis]\n",
    "df3=pd.DataFrame(li3)\n",
    "df3=df3.T\n",
    "df3.columns=['Mag','Dis']\n",
    "X_data=np.array(df3)\n",
    "X_data"
   ]
  },
  {
   "cell_type": "code",
   "execution_count": 63,
   "metadata": {},
   "outputs": [
    {
     "data": {
      "text/plain": [
       "15.244519"
      ]
     },
     "execution_count": 63,
     "metadata": {},
     "output_type": "execute_result"
    }
   ],
   "source": [
    "y_pred1=model1.predict(X_data)\n",
    "y_pred1=np.exp(y_pred1)\n",
    "y_pred1.max()"
   ]
  },
  {
   "cell_type": "code",
   "execution_count": 64,
   "metadata": {},
   "outputs": [
    {
     "data": {
      "text/plain": [
       "17.674156"
      ]
     },
     "execution_count": 64,
     "metadata": {},
     "output_type": "execute_result"
    }
   ],
   "source": [
    "y_pred2=model2.predict(X_data)\n",
    "y_pred2=np.exp(y_pred2)\n",
    "y_pred2.max()"
   ]
  },
  {
   "cell_type": "code",
   "execution_count": 65,
   "metadata": {},
   "outputs": [
    {
     "data": {
      "image/png": "[encoded data removed]",
      "text/plain": [
       "<Figure size 432x288 with 1 Axes>"
      ]
     },
     "metadata": {
      "needs_background": "light"
     },
     "output_type": "display_data"
    }
   ],
   "source": [
    "from matplotlib.ticker import FormatStrFormatter\n",
    "plt.figure(figsize=(6,4))\n",
    "plt.xscale('log')\n",
    "plt.yscale('log')\n",
    "plt.plot(df2['Dis'],y_pred1, color='darkblue', label='Surface', lw=3)\n",
    "plt.plot(df2['Dis'],y_pred2, color='darkred',label='Borehole', lw=3)\n",
    "#plt.axis([10, 1000, 10,100])\n",
    "plt.legend(fontsize=12)\n",
    "plt.tick_params(axis='both', which='major', labelsize=12, length=8)\n",
    "plt.ylabel('Duration(sec)', size=12,weight='bold')\n",
    "plt.xlabel('Joyner Boore Distance($Rjb$)', size=12, weight='bold')\n",
    "plt.title(\"Mag=5,Dur 5-75\",size=12, weight='bold')\n",
    "plt.minorticks_on()\n",
    "plt.tick_params(axis='both', which='minor', labelsize=8,length=4)\n"
   ]
  },
  {
   "cell_type": "code",
   "execution_count": 66,
   "metadata": {},
   "outputs": [],
   "source": [
    "Dis2=[]\n",
    "i=0\n",
    "while i<6:\n",
    "    Dis2.append(300)\n",
    "    i+=1\n",
    "Mag2=[]\n",
    "for i in range(2,8):\n",
    "    a=i+1\n",
    "    Mag2.append(a)"
   ]
  },
  {
   "cell_type": "code",
   "execution_count": 67,
   "metadata": {},
   "outputs": [
    {
     "data": {
      "text/plain": [
       "array([300, 300, 300, 300, 300, 300])"
      ]
     },
     "execution_count": 67,
     "metadata": {},
     "output_type": "execute_result"
    }
   ],
   "source": [
    "Mag2=np.array(Mag2)\n",
    "Dis2=np.array(Dis2)\n",
    "Mag2\n",
    "Dis2"
   ]
  },
  {
   "cell_type": "code",
   "execution_count": 68,
   "metadata": {},
   "outputs": [
    {
     "data": {
      "text/html": [
       "<div>\n",
       "<style scoped>\n",
       "    .dataframe tbody tr th:only-of-type {\n",
       "        vertical-align: middle;\n",
       "    }\n",
       "\n",
       "    .dataframe tbody tr th {\n",
       "        vertical-align: top;\n",
       "    }\n",
       "\n",
       "    .dataframe thead th {\n",
       "        text-align: right;\n",
       "    }\n",
       "</style>\n",
       "<table border=\"1\" class=\"dataframe\">\n",
       "  <thead>\n",
       "    <tr style=\"text-align: right;\">\n",
       "      <th></th>\n",
       "      <th>Mag</th>\n",
       "      <th>Dis</th>\n",
       "    </tr>\n",
       "  </thead>\n",
       "  <tbody>\n",
       "    <tr>\n",
       "      <th>0</th>\n",
       "      <td>3</td>\n",
       "      <td>300</td>\n",
       "    </tr>\n",
       "    <tr>\n",
       "      <th>1</th>\n",
       "      <td>4</td>\n",
       "      <td>300</td>\n",
       "    </tr>\n",
       "    <tr>\n",
       "      <th>2</th>\n",
       "      <td>5</td>\n",
       "      <td>300</td>\n",
       "    </tr>\n",
       "    <tr>\n",
       "      <th>3</th>\n",
       "      <td>6</td>\n",
       "      <td>300</td>\n",
       "    </tr>\n",
       "    <tr>\n",
       "      <th>4</th>\n",
       "      <td>7</td>\n",
       "      <td>300</td>\n",
       "    </tr>\n",
       "    <tr>\n",
       "      <th>5</th>\n",
       "      <td>8</td>\n",
       "      <td>300</td>\n",
       "    </tr>\n",
       "  </tbody>\n",
       "</table>\n",
       "</div>"
      ],
      "text/plain": [
       "   Mag  Dis\n",
       "0    3  300\n",
       "1    4  300\n",
       "2    5  300\n",
       "3    6  300\n",
       "4    7  300\n",
       "5    8  300"
      ]
     },
     "execution_count": 68,
     "metadata": {},
     "output_type": "execute_result"
    }
   ],
   "source": [
    "li4=[Mag2,Dis2]\n",
    "df4=pd.DataFrame(li4)\n",
    "df4=df4.T\n",
    "df4.columns=['Mag','Dis']\n",
    "df4"
   ]
  },
  {
   "cell_type": "code",
   "execution_count": 69,
   "metadata": {},
   "outputs": [],
   "source": [
    "mag=[]\n",
    "dis=[]\n",
    "\n",
    "for i in range(0,6):\n",
    "    mag_new=(Mag2[i]-4.543165)/0.774058\n",
    "    dis_new=(Dis2[i]-114.286183)/67.408356\n",
    "    \n",
    "    mag.append(mag_new)\n",
    "    dis.append(dis_new)"
   ]
  },
  {
   "cell_type": "code",
   "execution_count": 70,
   "metadata": {},
   "outputs": [
    {
     "data": {
      "text/plain": [
       "array([[-1.99360384,  2.75505632],\n",
       "       [-0.70171098,  2.75505632],\n",
       "       [ 0.59018187,  2.75505632],\n",
       "       [ 1.88207473,  2.75505632],\n",
       "       [ 3.17396758,  2.75505632],\n",
       "       [ 4.46586044,  2.75505632]])"
      ]
     },
     "execution_count": 70,
     "metadata": {},
     "output_type": "execute_result"
    }
   ],
   "source": [
    "li5=[mag,dis]\n",
    "df5=pd.DataFrame(li5)\n",
    "df5=df5.T\n",
    "df5.columns=['Mag','Dis']\n",
    "X_data=np.array(df5)\n",
    "X_data"
   ]
  },
  {
   "cell_type": "code",
   "execution_count": 71,
   "metadata": {},
   "outputs": [
    {
     "data": {
      "text/plain": [
       "51.73568"
      ]
     },
     "execution_count": 71,
     "metadata": {},
     "output_type": "execute_result"
    }
   ],
   "source": [
    "y_pred1=model1.predict(X_data)\n",
    "y_pred1=np.exp(y_pred1)\n",
    "y_pred1.max()"
   ]
  },
  {
   "cell_type": "code",
   "execution_count": 72,
   "metadata": {},
   "outputs": [
    {
     "data": {
      "text/plain": [
       "88.82131"
      ]
     },
     "execution_count": 72,
     "metadata": {},
     "output_type": "execute_result"
    }
   ],
   "source": [
    "y_pred2=model2.predict(X_data)\n",
    "y_pred2=np.exp(y_pred2)\n",
    "y_pred2.max()"
   ]
  },
  {
   "cell_type": "code",
   "execution_count": 73,
   "metadata": {},
   "outputs": [
    {
     "data": {
      "image/png": "[encoded data removed]",
      "text/plain": [
       "<Figure size 432x288 with 1 Axes>"
      ]
     },
     "metadata": {
      "needs_background": "light"
     },
     "output_type": "display_data"
    }
   ],
   "source": [
    "plt.figure(figsize=(6,4))\n",
    "#plt.xscale('log')\n",
    "plt.yscale('log')\n",
    "plt.plot(df4['Mag'],y_pred1, color='darkblue', label='Surface', lw=3)\n",
    "plt.plot(df4['Mag'],y_pred2, color='darkred',label='Borehole', lw=3)\n",
    "#plt.axis([10, 1000, 10,100])\n",
    "plt.legend(fontsize=12)\n",
    "plt.tick_params(axis='both', which='major', labelsize=12, length=8)\n",
    "plt.ylabel('Duration(sec)', size=12,weight='bold')\n",
    "plt.xlabel('Magnitude($Mw$)', size=12, weight='bold')\n",
    "plt.title(\"Rjb=300km,Dur 5-75\",size=12, weight='bold')\n",
    "plt.minorticks_on()\n",
    "plt.tick_params(axis='both', which='minor', labelsize=8,length=4)\n"
   ]
  },
  {
   "cell_type": "code",
   "execution_count": null,
   "metadata": {},
   "outputs": [],
   "source": []
  },
  {
   "cell_type": "code",
   "execution_count": null,
   "metadata": {},
   "outputs": [],
   "source": []
  },
  {
   "cell_type": "code",
   "execution_count": null,
   "metadata": {},
   "outputs": [],
   "source": []
  }
 ],
 "metadata": {
  "kernelspec": {
   "display_name": "Python 3",
   "language": "python",
   "name": "python3"
  },
  "language_info": {
   "codemirror_mode": {
    "name": "ipython",
    "version": 3
   },
   "file_extension": ".py",
   "mimetype": "text/x-python",
   "name": "python",
   "nbconvert_exporter": "python",
   "pygments_lexer": "ipython3",
   "version": "3.7.10"
  }
 },
 "nbformat": 4,
 "nbformat_minor": 4
}
