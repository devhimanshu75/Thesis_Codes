{
 "cells": [
  {
   "cell_type": "markdown",
   "metadata": {},
   "source": [
    " import numpy as np\n",
    "import pandas as pd\n",
    "import seaborn as sns\n",
    "import matplotlib.pyplot as plt\n",
    "import tensorflow as tf\n",
    "from keras.models import Sequential\n",
    "from keras.layers import Dense\n",
    "from keras.wrappers.scikit_learn import KerasRegressor\n",
    "from sklearn.model_selection import train_test_split\n",
    "from sklearn.metrics import r2_score\n",
    "import sklearn\n",
    "from sklearn import preprocessing\n",
    "from tensorflow.keras.optimizers import Adam\n",
    "from sklearn.model_selection import StratifiedKFold"
   ]
  },
  {
   "cell_type": "code",
   "execution_count": 2,
   "metadata": {},
   "outputs": [],
   "source": [
    "df=pd.read_csv('fas_data_ALLDUR.csv')"
   ]
  },
  {
   "cell_type": "code",
   "execution_count": 3,
   "metadata": {},
   "outputs": [
    {
     "name": "stdout",
     "output_type": "stream",
     "text": [
      "['Unnamed: 0', 'index', 'D5_75_', 'D20_80_', 'D5_95_', 'f_0.1', 'f_0.106', 'f_0.112', 'f_0.118', 'f_0.125', 'f_0.132', 'f_0.14', 'f_0.148', 'f_0.156', 'f_0.165', 'f_0.175', 'f_0.185', 'f_0.195', 'f_0.206', 'f_0.218', 'f_0.231', 'f_0.244', 'f_0.258', 'f_0.273', 'f_0.289', 'f_0.305', 'f_0.323', 'f_0.341', 'f_0.361', 'f_0.381', 'f_0.403', 'f_0.426', 'f_0.451', 'f_0.477', 'f_0.504', 'f_0.533', 'f_0.563', 'f_0.596', 'f_0.63', 'f_0.666', 'f_0.704', 'f_0.745', 'f_0.787', 'f_0.833', 'f_0.88', 'f_0.931', 'f_0.984', 'f_1.041', 'f_1.1', 'f_1.163', 'f_1.23', 'f_1.301', 'f_1.375', 'f_1.454', 'f_1.538', 'f_1.626', 'f_1.719', 'f_1.818', 'f_1.922', 'f_2.032', 'f_2.149', 'f_2.272', 'f_2.402', 'f_2.54', 'f_2.686', 'f_2.84', 'f_3.003', 'f_3.175', 'f_3.357', 'f_3.55', 'f_3.753', 'f_3.969', 'f_4.196', 'f_4.437', 'f_4.691', 'f_4.96', 'f_5.245', 'f_5.546', 'f_5.864', 'f_6.2', 'f_6.556', 'f_6.932', 'f_7.329', 'f_7.75', 'f_8.194', 'f_8.664', 'f_9.161', 'f_9.687', 'f_10.242', 'f_10.83', 'f_11.451', 'f_12.108', 'f_12.802', 'f_13.536', 'f_14.313', 'f_15.134', 'f_16.002', 'f_16.92', 'f_17.89', 'f_18.916', 'f_20.001', 'f_21.148', 'f_22.361', 'f_23.644', 'f_25.0', 'pga']\n"
     ]
    }
   ],
   "source": [
    "print(df.columns.tolist())"
   ]
  },
  {
   "cell_type": "code",
   "execution_count": 4,
   "metadata": {},
   "outputs": [
    {
     "data": {
      "text/plain": [
       "(106982, 106)"
      ]
     },
     "execution_count": 4,
     "metadata": {},
     "output_type": "execute_result"
    }
   ],
   "source": [
    "df.dropna(axis=0,inplace=True)\n",
    "df.shape"
   ]
  },
  {
   "cell_type": "code",
   "execution_count": 5,
   "metadata": {},
   "outputs": [],
   "source": [
    "input_var=df[['D20_80_', 'f_0.1', 'f_0.106', 'f_0.112', 'f_0.118', 'f_0.125', 'f_0.132', 'f_0.14', 'f_0.148',\n",
    "                      'f_0.156', 'f_0.165', 'f_0.175', 'f_0.185', 'f_0.195', 'f_0.206', 'f_0.218', 'f_0.231', 'f_0.244',\n",
    "                      'f_0.258', 'f_0.273', 'f_0.289', 'f_0.305', 'f_0.323', 'f_0.341', 'f_0.361', 'f_0.381', 'f_0.403',\n",
    "                      'f_0.426', 'f_0.451', 'f_0.477', 'f_0.504', 'f_0.533', 'f_0.563', 'f_0.596', 'f_0.63', 'f_0.666', \n",
    "                      'f_0.704', 'f_0.745', 'f_0.787', 'f_0.833', 'f_0.88', 'f_0.931', 'f_0.984', 'f_1.041', 'f_1.1',\n",
    "                      'f_1.163', 'f_1.23', 'f_1.301', 'f_1.375', 'f_1.454', 'f_1.538', 'f_1.626', 'f_1.719', 'f_1.818', \n",
    "                      'f_1.922', 'f_2.032', 'f_2.149', 'f_2.272', 'f_2.402', 'f_2.54', 'f_2.686', 'f_2.84', 'f_3.003',\n",
    "                      'f_3.175', 'f_3.357', 'f_3.55', 'f_3.753', 'f_3.969', 'f_4.196', 'f_4.437', 'f_4.691', 'f_4.96', \n",
    "                      'f_5.245', 'f_5.546', 'f_5.864', 'f_6.2', 'f_6.556', 'f_6.932', 'f_7.329', 'f_7.75', 'f_8.194',\n",
    "                      'f_8.664', 'f_9.161', 'f_9.687', 'f_10.242', 'f_10.83', 'f_11.451', 'f_12.108', 'f_12.802', 'f_13.536', \n",
    "                      'f_14.313', 'f_15.134', 'f_16.002', 'f_16.92', 'f_17.89', 'f_18.916', 'f_20.001', 'f_21.148', 'f_22.361',\n",
    "                      'f_23.644', 'f_25.0']]"
   ]
  },
  {
   "cell_type": "code",
   "execution_count": 6,
   "metadata": {},
   "outputs": [
    {
     "data": {
      "text/plain": [
       "array([[0.24216156],\n",
       "       [0.30821972],\n",
       "       [0.35627486],\n",
       "       ...,\n",
       "       [0.31626953],\n",
       "       [1.95132404],\n",
       "       [0.95896701]])"
      ]
     },
     "execution_count": 6,
     "metadata": {},
     "output_type": "execute_result"
    }
   ],
   "source": [
    "y_var=df[['pga']]\n",
    "y_var=np.log(y_var)\n",
    "y_var=np.array(y_var)\n",
    "y_var"
   ]
  },
  {
   "cell_type": "code",
   "execution_count": 8,
   "metadata": {},
   "outputs": [],
   "source": [
    "#input_var"
   ]
  },
  {
   "cell_type": "code",
   "execution_count": 9,
   "metadata": {},
   "outputs": [],
   "source": [
    "X_train, X_test, y_train, y_test=train_test_split(input_var,y_var,test_size=0.2)"
   ]
  },
  {
   "cell_type": "code",
   "execution_count": 10,
   "metadata": {},
   "outputs": [],
   "source": [
    "model=Sequential([Dense(units=50, input_shape=(101,), activation='tanh'),\n",
    "                  \n",
    "                  Dense(units=1, activation='linear')])"
   ]
  },
  {
   "cell_type": "code",
   "execution_count": 11,
   "metadata": {},
   "outputs": [
    {
     "name": "stdout",
     "output_type": "stream",
     "text": [
      "Model: \"sequential_1\"\n",
      "_________________________________________________________________\n",
      "Layer (type)                 Output Shape              Param #   \n",
      "=================================================================\n",
      "dense_1 (Dense)              (None, 50)                5100      \n",
      "_________________________________________________________________\n",
      "dense_2 (Dense)              (None, 1)                 51        \n",
      "=================================================================\n",
      "Total params: 5,151\n",
      "Trainable params: 5,151\n",
      "Non-trainable params: 0\n",
      "_________________________________________________________________\n"
     ]
    }
   ],
   "source": [
    "model.summary()"
   ]
  },
  {
   "cell_type": "code",
   "execution_count": 12,
   "metadata": {},
   "outputs": [
    {
     "data": {
      "text/html": [
       "<div>\n",
       "<style scoped>\n",
       "    .dataframe tbody tr th:only-of-type {\n",
       "        vertical-align: middle;\n",
       "    }\n",
       "\n",
       "    .dataframe tbody tr th {\n",
       "        vertical-align: top;\n",
       "    }\n",
       "\n",
       "    .dataframe thead th {\n",
       "        text-align: right;\n",
       "    }\n",
       "</style>\n",
       "<table border=\"1\" class=\"dataframe\">\n",
       "  <thead>\n",
       "    <tr style=\"text-align: right;\">\n",
       "      <th></th>\n",
       "      <th>Unnamed: 0</th>\n",
       "      <th>index</th>\n",
       "      <th>D5_75_</th>\n",
       "      <th>D20_80_</th>\n",
       "      <th>D5_95_</th>\n",
       "      <th>f_0.1</th>\n",
       "      <th>f_0.106</th>\n",
       "      <th>f_0.112</th>\n",
       "      <th>f_0.118</th>\n",
       "      <th>f_0.125</th>\n",
       "      <th>...</th>\n",
       "      <th>f_16.002</th>\n",
       "      <th>f_16.92</th>\n",
       "      <th>f_17.89</th>\n",
       "      <th>f_18.916</th>\n",
       "      <th>f_20.001</th>\n",
       "      <th>f_21.148</th>\n",
       "      <th>f_22.361</th>\n",
       "      <th>f_23.644</th>\n",
       "      <th>f_25.0</th>\n",
       "      <th>pga</th>\n",
       "    </tr>\n",
       "  </thead>\n",
       "  <tbody>\n",
       "    <tr>\n",
       "      <th>count</th>\n",
       "      <td>106982.000000</td>\n",
       "      <td>106982.000000</td>\n",
       "      <td>106982.000000</td>\n",
       "      <td>106982.000000</td>\n",
       "      <td>106982.000000</td>\n",
       "      <td>1.069820e+05</td>\n",
       "      <td>1.069820e+05</td>\n",
       "      <td>1.069820e+05</td>\n",
       "      <td>1.069820e+05</td>\n",
       "      <td>1.069820e+05</td>\n",
       "      <td>...</td>\n",
       "      <td>106982.000000</td>\n",
       "      <td>1.069820e+05</td>\n",
       "      <td>1.069820e+05</td>\n",
       "      <td>1.069820e+05</td>\n",
       "      <td>1.069820e+05</td>\n",
       "      <td>1.069820e+05</td>\n",
       "      <td>1.069820e+05</td>\n",
       "      <td>1.069820e+05</td>\n",
       "      <td>1.069820e+05</td>\n",
       "      <td>106982.000000</td>\n",
       "    </tr>\n",
       "    <tr>\n",
       "      <th>mean</th>\n",
       "      <td>58497.127750</td>\n",
       "      <td>28991.627750</td>\n",
       "      <td>13.063829</td>\n",
       "      <td>9.714078</td>\n",
       "      <td>27.418717</td>\n",
       "      <td>5.463666e-04</td>\n",
       "      <td>6.119821e-04</td>\n",
       "      <td>6.832189e-04</td>\n",
       "      <td>7.639891e-04</td>\n",
       "      <td>8.533941e-04</td>\n",
       "      <td>...</td>\n",
       "      <td>0.002692</td>\n",
       "      <td>2.270078e-03</td>\n",
       "      <td>1.924690e-03</td>\n",
       "      <td>1.661319e-03</td>\n",
       "      <td>1.461649e-03</td>\n",
       "      <td>1.287821e-03</td>\n",
       "      <td>1.131475e-03</td>\n",
       "      <td>9.983069e-04</td>\n",
       "      <td>8.805933e-04</td>\n",
       "      <td>7.451248</td>\n",
       "    </tr>\n",
       "    <tr>\n",
       "      <th>std</th>\n",
       "      <td>34208.882305</td>\n",
       "      <td>17310.833621</td>\n",
       "      <td>11.761638</td>\n",
       "      <td>10.402221</td>\n",
       "      <td>20.062498</td>\n",
       "      <td>3.744008e-03</td>\n",
       "      <td>4.178763e-03</td>\n",
       "      <td>4.664876e-03</td>\n",
       "      <td>5.250269e-03</td>\n",
       "      <td>5.893403e-03</td>\n",
       "      <td>...</td>\n",
       "      <td>0.009266</td>\n",
       "      <td>8.153474e-03</td>\n",
       "      <td>7.254000e-03</td>\n",
       "      <td>6.495222e-03</td>\n",
       "      <td>5.896707e-03</td>\n",
       "      <td>5.438898e-03</td>\n",
       "      <td>5.023072e-03</td>\n",
       "      <td>4.580514e-03</td>\n",
       "      <td>4.117510e-03</td>\n",
       "      <td>26.199895</td>\n",
       "    </tr>\n",
       "    <tr>\n",
       "      <th>min</th>\n",
       "      <td>0.000000</td>\n",
       "      <td>0.000000</td>\n",
       "      <td>0.060000</td>\n",
       "      <td>0.050000</td>\n",
       "      <td>0.335000</td>\n",
       "      <td>1.918383e-08</td>\n",
       "      <td>2.387068e-08</td>\n",
       "      <td>2.235663e-08</td>\n",
       "      <td>2.653885e-08</td>\n",
       "      <td>5.331271e-08</td>\n",
       "      <td>...</td>\n",
       "      <td>0.000003</td>\n",
       "      <td>9.460733e-07</td>\n",
       "      <td>4.312745e-07</td>\n",
       "      <td>3.283740e-07</td>\n",
       "      <td>2.652877e-07</td>\n",
       "      <td>2.447070e-07</td>\n",
       "      <td>2.390122e-07</td>\n",
       "      <td>2.232137e-07</td>\n",
       "      <td>1.990773e-07</td>\n",
       "      <td>0.004000</td>\n",
       "    </tr>\n",
       "    <tr>\n",
       "      <th>25%</th>\n",
       "      <td>29111.250000</td>\n",
       "      <td>13446.250000</td>\n",
       "      <td>6.020000</td>\n",
       "      <td>4.225000</td>\n",
       "      <td>14.580000</td>\n",
       "      <td>1.296359e-06</td>\n",
       "      <td>1.536080e-06</td>\n",
       "      <td>1.845160e-06</td>\n",
       "      <td>2.184606e-06</td>\n",
       "      <td>2.669182e-06</td>\n",
       "      <td>...</td>\n",
       "      <td>0.000298</td>\n",
       "      <td>2.413304e-04</td>\n",
       "      <td>1.961945e-04</td>\n",
       "      <td>1.638609e-04</td>\n",
       "      <td>1.383619e-04</td>\n",
       "      <td>1.160719e-04</td>\n",
       "      <td>9.847905e-05</td>\n",
       "      <td>8.457142e-05</td>\n",
       "      <td>7.272223e-05</td>\n",
       "      <td>1.097000</td>\n",
       "    </tr>\n",
       "    <tr>\n",
       "      <th>50%</th>\n",
       "      <td>59010.500000</td>\n",
       "      <td>29111.000000</td>\n",
       "      <td>10.355000</td>\n",
       "      <td>6.860000</td>\n",
       "      <td>21.380000</td>\n",
       "      <td>8.584374e-06</td>\n",
       "      <td>1.024773e-05</td>\n",
       "      <td>1.234190e-05</td>\n",
       "      <td>1.462356e-05</td>\n",
       "      <td>1.730042e-05</td>\n",
       "      <td>...</td>\n",
       "      <td>0.000805</td>\n",
       "      <td>6.572644e-04</td>\n",
       "      <td>5.409373e-04</td>\n",
       "      <td>4.543364e-04</td>\n",
       "      <td>3.887149e-04</td>\n",
       "      <td>3.299744e-04</td>\n",
       "      <td>2.797905e-04</td>\n",
       "      <td>2.387051e-04</td>\n",
       "      <td>2.024145e-04</td>\n",
       "      <td>2.337000</td>\n",
       "    </tr>\n",
       "    <tr>\n",
       "      <th>75%</th>\n",
       "      <td>88121.750000</td>\n",
       "      <td>44095.750000</td>\n",
       "      <td>15.970000</td>\n",
       "      <td>11.090000</td>\n",
       "      <td>33.580000</td>\n",
       "      <td>5.791325e-05</td>\n",
       "      <td>6.675065e-05</td>\n",
       "      <td>7.616329e-05</td>\n",
       "      <td>8.734585e-05</td>\n",
       "      <td>1.007050e-04</td>\n",
       "      <td>...</td>\n",
       "      <td>0.002130</td>\n",
       "      <td>1.772710e-03</td>\n",
       "      <td>1.480167e-03</td>\n",
       "      <td>1.258360e-03</td>\n",
       "      <td>1.090311e-03</td>\n",
       "      <td>9.454349e-04</td>\n",
       "      <td>8.123632e-04</td>\n",
       "      <td>6.957880e-04</td>\n",
       "      <td>5.957214e-04</td>\n",
       "      <td>5.498000</td>\n",
       "    </tr>\n",
       "    <tr>\n",
       "      <th>max</th>\n",
       "      <td>118021.000000</td>\n",
       "      <td>59010.000000</td>\n",
       "      <td>216.720000</td>\n",
       "      <td>235.680000</td>\n",
       "      <td>246.330000</td>\n",
       "      <td>4.506172e-01</td>\n",
       "      <td>5.007584e-01</td>\n",
       "      <td>5.510262e-01</td>\n",
       "      <td>6.018347e-01</td>\n",
       "      <td>6.499692e-01</td>\n",
       "      <td>...</td>\n",
       "      <td>0.757825</td>\n",
       "      <td>7.629326e-01</td>\n",
       "      <td>6.779354e-01</td>\n",
       "      <td>5.970292e-01</td>\n",
       "      <td>6.021466e-01</td>\n",
       "      <td>6.442016e-01</td>\n",
       "      <td>6.361269e-01</td>\n",
       "      <td>5.895877e-01</td>\n",
       "      <td>5.099712e-01</td>\n",
       "      <td>2449.245000</td>\n",
       "    </tr>\n",
       "  </tbody>\n",
       "</table>\n",
       "<p>8 rows × 106 columns</p>\n",
       "</div>"
      ],
      "text/plain": [
       "          Unnamed: 0          index         D5_75_        D20_80_  \\\n",
       "count  106982.000000  106982.000000  106982.000000  106982.000000   \n",
       "mean    58497.127750   28991.627750      13.063829       9.714078   \n",
       "std     34208.882305   17310.833621      11.761638      10.402221   \n",
       "min         0.000000       0.000000       0.060000       0.050000   \n",
       "25%     29111.250000   13446.250000       6.020000       4.225000   \n",
       "50%     59010.500000   29111.000000      10.355000       6.860000   \n",
       "75%     88121.750000   44095.750000      15.970000      11.090000   \n",
       "max    118021.000000   59010.000000     216.720000     235.680000   \n",
       "\n",
       "              D5_95_         f_0.1       f_0.106       f_0.112       f_0.118  \\\n",
       "count  106982.000000  1.069820e+05  1.069820e+05  1.069820e+05  1.069820e+05   \n",
       "mean       27.418717  5.463666e-04  6.119821e-04  6.832189e-04  7.639891e-04   \n",
       "std        20.062498  3.744008e-03  4.178763e-03  4.664876e-03  5.250269e-03   \n",
       "min         0.335000  1.918383e-08  2.387068e-08  2.235663e-08  2.653885e-08   \n",
       "25%        14.580000  1.296359e-06  1.536080e-06  1.845160e-06  2.184606e-06   \n",
       "50%        21.380000  8.584374e-06  1.024773e-05  1.234190e-05  1.462356e-05   \n",
       "75%        33.580000  5.791325e-05  6.675065e-05  7.616329e-05  8.734585e-05   \n",
       "max       246.330000  4.506172e-01  5.007584e-01  5.510262e-01  6.018347e-01   \n",
       "\n",
       "            f_0.125  ...       f_16.002       f_16.92       f_17.89  \\\n",
       "count  1.069820e+05  ...  106982.000000  1.069820e+05  1.069820e+05   \n",
       "mean   8.533941e-04  ...       0.002692  2.270078e-03  1.924690e-03   \n",
       "std    5.893403e-03  ...       0.009266  8.153474e-03  7.254000e-03   \n",
       "min    5.331271e-08  ...       0.000003  9.460733e-07  4.312745e-07   \n",
       "25%    2.669182e-06  ...       0.000298  2.413304e-04  1.961945e-04   \n",
       "50%    1.730042e-05  ...       0.000805  6.572644e-04  5.409373e-04   \n",
       "75%    1.007050e-04  ...       0.002130  1.772710e-03  1.480167e-03   \n",
       "max    6.499692e-01  ...       0.757825  7.629326e-01  6.779354e-01   \n",
       "\n",
       "           f_18.916      f_20.001      f_21.148      f_22.361      f_23.644  \\\n",
       "count  1.069820e+05  1.069820e+05  1.069820e+05  1.069820e+05  1.069820e+05   \n",
       "mean   1.661319e-03  1.461649e-03  1.287821e-03  1.131475e-03  9.983069e-04   \n",
       "std    6.495222e-03  5.896707e-03  5.438898e-03  5.023072e-03  4.580514e-03   \n",
       "min    3.283740e-07  2.652877e-07  2.447070e-07  2.390122e-07  2.232137e-07   \n",
       "25%    1.638609e-04  1.383619e-04  1.160719e-04  9.847905e-05  8.457142e-05   \n",
       "50%    4.543364e-04  3.887149e-04  3.299744e-04  2.797905e-04  2.387051e-04   \n",
       "75%    1.258360e-03  1.090311e-03  9.454349e-04  8.123632e-04  6.957880e-04   \n",
       "max    5.970292e-01  6.021466e-01  6.442016e-01  6.361269e-01  5.895877e-01   \n",
       "\n",
       "             f_25.0            pga  \n",
       "count  1.069820e+05  106982.000000  \n",
       "mean   8.805933e-04       7.451248  \n",
       "std    4.117510e-03      26.199895  \n",
       "min    1.990773e-07       0.004000  \n",
       "25%    7.272223e-05       1.097000  \n",
       "50%    2.024145e-04       2.337000  \n",
       "75%    5.957214e-04       5.498000  \n",
       "max    5.099712e-01    2449.245000  \n",
       "\n",
       "[8 rows x 106 columns]"
      ]
     },
     "execution_count": 12,
     "metadata": {},
     "output_type": "execute_result"
    }
   ],
   "source": [
    "df.describe()"
   ]
  },
  {
   "cell_type": "code",
   "execution_count": 13,
   "metadata": {},
   "outputs": [],
   "source": [
    "model.compile(optimizer=Adam(learning_rate=0.01),loss='mean_squared_error')"
   ]
  },
  {
   "cell_type": "code",
   "execution_count": 14,
   "metadata": {},
   "outputs": [
    {
     "name": "stdout",
     "output_type": "stream",
     "text": [
      "Train on 77026 samples, validate on 8559 samples\n",
      "Epoch 1/50\n",
      "77026/77026 [==============================] - 2s 20us/step - loss: 0.2579 - val_loss: 0.0908\n",
      "Epoch 2/50\n",
      "77026/77026 [==============================] - 1s 19us/step - loss: 0.0784 - val_loss: 0.0576\n",
      "Epoch 3/50\n",
      "77026/77026 [==============================] - 1s 19us/step - loss: 0.0612 - val_loss: 0.0544\n",
      "Epoch 4/50\n",
      "77026/77026 [==============================] - 1s 19us/step - loss: 0.0545 - val_loss: 0.0530\n",
      "Epoch 5/50\n",
      "77026/77026 [==============================] - 1s 19us/step - loss: 0.0507 - val_loss: 0.0458\n",
      "Epoch 6/50\n",
      "77026/77026 [==============================] - 1s 19us/step - loss: 0.0479 - val_loss: 0.0572\n",
      "Epoch 7/50\n",
      "77026/77026 [==============================] - 1s 19us/step - loss: 0.0472 - val_loss: 0.0428\n",
      "Epoch 8/50\n",
      "77026/77026 [==============================] - 1s 19us/step - loss: 0.0457 - val_loss: 0.0391\n",
      "Epoch 9/50\n",
      "77026/77026 [==============================] - 2s 21us/step - loss: 0.0450 - val_loss: 0.0467\n",
      "Epoch 10/50\n",
      "77026/77026 [==============================] - 1s 19us/step - loss: 0.0427 - val_loss: 0.0398\n",
      "Epoch 11/50\n",
      "77026/77026 [==============================] - 1s 19us/step - loss: 0.0427 - val_loss: 0.0399\n",
      "Epoch 12/50\n",
      "77026/77026 [==============================] - 1s 19us/step - loss: 0.0420 - val_loss: 0.0420\n",
      "Epoch 13/50\n",
      "77026/77026 [==============================] - 1s 19us/step - loss: 0.0424 - val_loss: 0.0424\n",
      "Epoch 14/50\n",
      "77026/77026 [==============================] - 1s 19us/step - loss: 0.0431 - val_loss: 0.0376\n",
      "Epoch 15/50\n",
      "77026/77026 [==============================] - 1s 19us/step - loss: 0.0423 - val_loss: 0.0446\n",
      "Epoch 16/50\n",
      "77026/77026 [==============================] - 1s 19us/step - loss: 0.0405 - val_loss: 0.0420\n",
      "Epoch 17/50\n",
      "77026/77026 [==============================] - 1s 19us/step - loss: 0.0405 - val_loss: 0.0364\n",
      "Epoch 18/50\n",
      "77026/77026 [==============================] - 1s 19us/step - loss: 0.0407 - val_loss: 0.0368\n",
      "Epoch 19/50\n",
      "77026/77026 [==============================] - 1s 19us/step - loss: 0.0401 - val_loss: 0.0392\n",
      "Epoch 20/50\n",
      "77026/77026 [==============================] - 1s 19us/step - loss: 0.0403 - val_loss: 0.0362\n",
      "Epoch 21/50\n",
      "77026/77026 [==============================] - 1s 19us/step - loss: 0.0392 - val_loss: 0.0494\n",
      "Epoch 22/50\n",
      "77026/77026 [==============================] - 1s 19us/step - loss: 0.0391 - val_loss: 0.0374\n",
      "Epoch 23/50\n",
      "77026/77026 [==============================] - 1s 19us/step - loss: 0.0412 - val_loss: 0.0602\n",
      "Epoch 24/50\n",
      "77026/77026 [==============================] - 1s 19us/step - loss: 0.0391 - val_loss: 0.0459\n",
      "Epoch 25/50\n",
      "77026/77026 [==============================] - 1s 19us/step - loss: 0.0390 - val_loss: 0.0378\n",
      "Epoch 26/50\n",
      "77026/77026 [==============================] - 1s 19us/step - loss: 0.0384 - val_loss: 0.0355\n",
      "Epoch 27/50\n",
      "77026/77026 [==============================] - 1s 19us/step - loss: 0.0385 - val_loss: 0.0372\n",
      "Epoch 28/50\n",
      "77026/77026 [==============================] - 1s 19us/step - loss: 0.0387 - val_loss: 0.0385\n",
      "Epoch 29/50\n",
      "77026/77026 [==============================] - 2s 20us/step - loss: 0.0389 - val_loss: 0.0399\n",
      "Epoch 30/50\n",
      "77026/77026 [==============================] - 1s 19us/step - loss: 0.0387 - val_loss: 0.0375\n",
      "Epoch 31/50\n",
      "77026/77026 [==============================] - 2s 20us/step - loss: 0.0383 - val_loss: 0.0356\n",
      "Epoch 32/50\n",
      "77026/77026 [==============================] - 1s 19us/step - loss: 0.0386 - val_loss: 0.0387\n",
      "Epoch 33/50\n",
      "77026/77026 [==============================] - 1s 19us/step - loss: 0.0382 - val_loss: 0.0393\n",
      "Epoch 34/50\n",
      "77026/77026 [==============================] - 1s 19us/step - loss: 0.0390 - val_loss: 0.0349\n",
      "Epoch 35/50\n",
      "77026/77026 [==============================] - 1s 19us/step - loss: 0.0380 - val_loss: 0.0358\n",
      "Epoch 36/50\n",
      "77026/77026 [==============================] - 1s 19us/step - loss: 0.0387 - val_loss: 0.0358\n",
      "Epoch 37/50\n",
      "77026/77026 [==============================] - 1s 19us/step - loss: 0.0385 - val_loss: 0.0354\n",
      "Epoch 38/50\n",
      "77026/77026 [==============================] - 1s 19us/step - loss: 0.0378 - val_loss: 0.0358\n",
      "Epoch 39/50\n",
      "77026/77026 [==============================] - 1s 19us/step - loss: 0.0385 - val_loss: 0.0421\n",
      "Epoch 40/50\n",
      "77026/77026 [==============================] - 1s 19us/step - loss: 0.0377 - val_loss: 0.0409\n",
      "Epoch 41/50\n",
      "77026/77026 [==============================] - 1s 19us/step - loss: 0.0379 - val_loss: 0.0493\n",
      "Epoch 42/50\n",
      "77026/77026 [==============================] - 1s 19us/step - loss: 0.0382 - val_loss: 0.0373\n",
      "Epoch 43/50\n",
      "77026/77026 [==============================] - 1s 19us/step - loss: 0.0381 - val_loss: 0.0358\n",
      "Epoch 44/50\n",
      "77026/77026 [==============================] - 1s 19us/step - loss: 0.0379 - val_loss: 0.0493\n",
      "Epoch 45/50\n",
      "77026/77026 [==============================] - 1s 19us/step - loss: 0.0382 - val_loss: 0.0369\n",
      "Epoch 46/50\n",
      "77026/77026 [==============================] - 1s 19us/step - loss: 0.0381 - val_loss: 0.0362\n",
      "Epoch 47/50\n",
      "77026/77026 [==============================] - 1s 19us/step - loss: 0.0375 - val_loss: 0.0389\n",
      "Epoch 48/50\n",
      "77026/77026 [==============================] - 2s 20us/step - loss: 0.0374 - val_loss: 0.0358\n",
      "Epoch 49/50\n",
      "77026/77026 [==============================] - 1s 19us/step - loss: 0.0374 - val_loss: 0.0373\n",
      "Epoch 50/50\n",
      "77026/77026 [==============================] - 1s 19us/step - loss: 0.0374 - val_loss: 0.0382\n"
     ]
    },
    {
     "data": {
      "image/png": "[encoded data removed]",
      "text/plain": [
       "<Figure size 576x576 with 1 Axes>"
      ]
     },
     "metadata": {
      "needs_background": "light"
     },
     "output_type": "display_data"
    }
   ],
   "source": [
    "history=model.fit(X_train, y_train,batch_size=128, epochs=50, validation_split=0.1, verbose=1)\n",
    "history_dict=history.history\n",
    "    \n",
    "loss_values= history_dict['loss']\n",
    "val_loss_values=history_dict['val_loss']\n",
    "plt.figure(figsize=(8,8))\n",
    "plt.style.use('seaborn-pastel')\n",
    "sns.color_palette(\"rocket\")\n",
    "sns.set_style(\"darkgrid\")\n",
    "    \n",
    "plt.plot(loss_values, 'bo', label='training loss')\n",
    "plt.plot(val_loss_values, 'r', label='val training loss')\n",
    "plt.legend(fontsize=10)\n",
    "\n",
    "\n",
    "plt.ylabel('Loss' ,fontsize=20)\n",
    "plt.xlabel('No. of epochs', fontsize=20)\n",
    "\n",
    "\n",
    "plt.tick_params(axis='both', which='major', labelsize=20)"
   ]
  },
  {
   "cell_type": "code",
   "execution_count": 15,
   "metadata": {},
   "outputs": [
    {
     "name": "stdout",
     "output_type": "stream",
     "text": [
      "R2 score on train set is :\t0.976\n",
      "R2 score on test set is :\t0.975\n"
     ]
    }
   ],
   "source": [
    "y_train_pred=model.predict(X_train)\n",
    "y_test_pred=model.predict(X_test)\n",
    "\n",
    "print('R2 score on train set is :\\t{:0.3f}'.format(r2_score(y_train, y_train_pred)))\n",
    "print('R2 score on test set is :\\t{:0.3f}'.format(r2_score(y_test, y_test_pred)))"
   ]
  },
  {
   "cell_type": "code",
   "execution_count": 16,
   "metadata": {},
   "outputs": [
    {
     "data": {
      "text/plain": [
       "Text(0.5, 1.0, 'Duration 20_80')"
      ]
     },
     "execution_count": 16,
     "metadata": {},
     "output_type": "execute_result"
    },
    {
     "data": {
      "image/png": "[encoded data removed]",
      "text/plain": [
       "<Figure size 1080x576 with 1 Axes>"
      ]
     },
     "metadata": {},
     "output_type": "display_data"
    }
   ],
   "source": [
    "error=y_test_pred-y_test\n",
    "plt.figure(figsize=(15,8))\n",
    "plt.hist(error, bins=25, color='grey')\n",
    "\n",
    "plt.xlabel('Prediction error',fontsize=20)\n",
    "plt.ylabel('Count',fontsize=20)\n",
    "plt.tick_params(axis='both', which='major', labelsize=20)\n",
    "plt.title('Duration 20_80', fontsize=20)"
   ]
  },
  {
   "cell_type": "code",
   "execution_count": 18,
   "metadata": {},
   "outputs": [
    {
     "data": {
      "text/plain": [
       "<Figure size 432x288 with 0 Axes>"
      ]
     },
     "execution_count": 18,
     "metadata": {},
     "output_type": "execute_result"
    },
    {
     "data": {
      "image/png": "[encoded data removed]",
      "text/plain": [
       "<Figure size 1080x576 with 1 Axes>"
      ]
     },
     "metadata": {},
     "output_type": "display_data"
    },
    {
     "data": {
      "text/plain": [
       "<Figure size 432x288 with 0 Axes>"
      ]
     },
     "metadata": {},
     "output_type": "display_data"
    }
   ],
   "source": [
    "#plt.plot(y_train,y_train_pred, '*r')\n",
    "plt.figure(figsize=(15,8))\n",
    "plt.plot(y_test, y_test_pred, 'o', color='grey')\n",
    "plt.xlabel('Actual output',fontsize=20)\n",
    "plt.ylabel('Predicted output',fontsize=20)\n",
    "plt.tick_params(axis='both', which='major', labelsize=20)\n",
    "plt.title('Predicted Output vs Actual Output on Test set(Duration20_80)', fontsize=20)\n",
    "\n",
    "plt.figure()"
   ]
  },
  {
   "cell_type": "code",
   "execution_count": 19,
   "metadata": {},
   "outputs": [
    {
     "data": {
      "text/plain": [
       "(21397, 1)"
      ]
     },
     "execution_count": 19,
     "metadata": {},
     "output_type": "execute_result"
    }
   ],
   "source": [
    "y_test.shape"
   ]
  },
  {
   "cell_type": "code",
   "execution_count": 20,
   "metadata": {},
   "outputs": [
    {
     "data": {
      "text/plain": [
       "array([[1.40350000e+01, 3.29022890e-05, 5.48283990e-05, ...,\n",
       "        1.06298002e-04, 7.80235633e-05, 5.16962475e-05],\n",
       "       [1.29850000e+01, 2.30889188e-05, 2.73595781e-05, ...,\n",
       "        3.24771218e-05, 2.97820103e-05, 2.78276805e-05],\n",
       "       [3.66500000e+00, 1.61156282e-06, 1.65677032e-06, ...,\n",
       "        6.04951579e-05, 4.41795273e-05, 3.73364744e-05],\n",
       "       ...,\n",
       "       [5.46000000e+00, 2.78263762e-07, 2.57601926e-07, ...,\n",
       "        4.36379358e-04, 4.03919392e-04, 3.47938418e-04],\n",
       "       [2.60000000e+00, 1.40131040e-06, 2.52566563e-06, ...,\n",
       "        1.59799663e-03, 1.43400443e-03, 1.23692654e-03],\n",
       "       [6.65000000e+00, 1.27957699e-06, 1.77005945e-06, ...,\n",
       "        2.38561832e-04, 2.53787574e-04, 1.78536851e-04]])"
      ]
     },
     "execution_count": 20,
     "metadata": {},
     "output_type": "execute_result"
    }
   ],
   "source": [
    "X_data=np.array((input_var))\n",
    "X_data"
   ]
  },
  {
   "cell_type": "code",
   "execution_count": 21,
   "metadata": {},
   "outputs": [
    {
     "data": {
      "text/plain": [
       "array([[0.18112475],\n",
       "       [0.1273542 ],\n",
       "       [0.50897676],\n",
       "       ...,\n",
       "       [0.5671068 ],\n",
       "       [1.8493445 ],\n",
       "       [0.7148679 ]], dtype=float32)"
      ]
     },
     "execution_count": 21,
     "metadata": {},
     "output_type": "execute_result"
    }
   ],
   "source": [
    "y_pred=model.predict(X_data)\n",
    "y_pred"
   ]
  },
  {
   "cell_type": "code",
   "execution_count": 22,
   "metadata": {},
   "outputs": [
    {
     "data": {
      "text/plain": [
       "(106982, 1)"
      ]
     },
     "execution_count": 22,
     "metadata": {},
     "output_type": "execute_result"
    }
   ],
   "source": [
    "y_pred.shape"
   ]
  },
  {
   "cell_type": "code",
   "execution_count": 23,
   "metadata": {},
   "outputs": [
    {
     "data": {
      "text/html": [
       "<div>\n",
       "<style scoped>\n",
       "    .dataframe tbody tr th:only-of-type {\n",
       "        vertical-align: middle;\n",
       "    }\n",
       "\n",
       "    .dataframe tbody tr th {\n",
       "        vertical-align: top;\n",
       "    }\n",
       "\n",
       "    .dataframe thead th {\n",
       "        text-align: right;\n",
       "    }\n",
       "</style>\n",
       "<table border=\"1\" class=\"dataframe\">\n",
       "  <thead>\n",
       "    <tr style=\"text-align: right;\">\n",
       "      <th></th>\n",
       "      <th>pga</th>\n",
       "    </tr>\n",
       "  </thead>\n",
       "  <tbody>\n",
       "    <tr>\n",
       "      <th>0</th>\n",
       "      <td>0.242162</td>\n",
       "    </tr>\n",
       "    <tr>\n",
       "      <th>1</th>\n",
       "      <td>0.308220</td>\n",
       "    </tr>\n",
       "    <tr>\n",
       "      <th>2</th>\n",
       "      <td>0.356275</td>\n",
       "    </tr>\n",
       "    <tr>\n",
       "      <th>3</th>\n",
       "      <td>-0.455706</td>\n",
       "    </tr>\n",
       "    <tr>\n",
       "      <th>4</th>\n",
       "      <td>0.473747</td>\n",
       "    </tr>\n",
       "    <tr>\n",
       "      <th>...</th>\n",
       "      <td>...</td>\n",
       "    </tr>\n",
       "    <tr>\n",
       "      <th>106977</th>\n",
       "      <td>0.985070</td>\n",
       "    </tr>\n",
       "    <tr>\n",
       "      <th>106978</th>\n",
       "      <td>0.409457</td>\n",
       "    </tr>\n",
       "    <tr>\n",
       "      <th>106979</th>\n",
       "      <td>0.316270</td>\n",
       "    </tr>\n",
       "    <tr>\n",
       "      <th>106980</th>\n",
       "      <td>1.951324</td>\n",
       "    </tr>\n",
       "    <tr>\n",
       "      <th>106981</th>\n",
       "      <td>0.958967</td>\n",
       "    </tr>\n",
       "  </tbody>\n",
       "</table>\n",
       "<p>106982 rows × 1 columns</p>\n",
       "</div>"
      ],
      "text/plain": [
       "             pga\n",
       "0       0.242162\n",
       "1       0.308220\n",
       "2       0.356275\n",
       "3      -0.455706\n",
       "4       0.473747\n",
       "...          ...\n",
       "106977  0.985070\n",
       "106978  0.409457\n",
       "106979  0.316270\n",
       "106980  1.951324\n",
       "106981  0.958967\n",
       "\n",
       "[106982 rows x 1 columns]"
      ]
     },
     "execution_count": 23,
     "metadata": {},
     "output_type": "execute_result"
    }
   ],
   "source": [
    "output_y=df[['pga']]\n",
    "output_y=np.log(output_y)\n",
    "output_y"
   ]
  },
  {
   "cell_type": "code",
   "execution_count": 24,
   "metadata": {},
   "outputs": [
    {
     "data": {
      "text/html": [
       "<div>\n",
       "<style scoped>\n",
       "    .dataframe tbody tr th:only-of-type {\n",
       "        vertical-align: middle;\n",
       "    }\n",
       "\n",
       "    .dataframe tbody tr th {\n",
       "        vertical-align: top;\n",
       "    }\n",
       "\n",
       "    .dataframe thead th {\n",
       "        text-align: right;\n",
       "    }\n",
       "</style>\n",
       "<table border=\"1\" class=\"dataframe\">\n",
       "  <thead>\n",
       "    <tr style=\"text-align: right;\">\n",
       "      <th></th>\n",
       "      <th>pga</th>\n",
       "    </tr>\n",
       "  </thead>\n",
       "  <tbody>\n",
       "    <tr>\n",
       "      <th>0</th>\n",
       "      <td>0.061037</td>\n",
       "    </tr>\n",
       "    <tr>\n",
       "      <th>1</th>\n",
       "      <td>0.180866</td>\n",
       "    </tr>\n",
       "    <tr>\n",
       "      <th>2</th>\n",
       "      <td>-0.152702</td>\n",
       "    </tr>\n",
       "    <tr>\n",
       "      <th>3</th>\n",
       "      <td>-0.126476</td>\n",
       "    </tr>\n",
       "    <tr>\n",
       "      <th>4</th>\n",
       "      <td>0.124249</td>\n",
       "    </tr>\n",
       "    <tr>\n",
       "      <th>...</th>\n",
       "      <td>...</td>\n",
       "    </tr>\n",
       "    <tr>\n",
       "      <th>106977</th>\n",
       "      <td>0.155628</td>\n",
       "    </tr>\n",
       "    <tr>\n",
       "      <th>106978</th>\n",
       "      <td>-0.018953</td>\n",
       "    </tr>\n",
       "    <tr>\n",
       "      <th>106979</th>\n",
       "      <td>-0.250837</td>\n",
       "    </tr>\n",
       "    <tr>\n",
       "      <th>106980</th>\n",
       "      <td>0.101980</td>\n",
       "    </tr>\n",
       "    <tr>\n",
       "      <th>106981</th>\n",
       "      <td>0.244099</td>\n",
       "    </tr>\n",
       "  </tbody>\n",
       "</table>\n",
       "<p>106982 rows × 1 columns</p>\n",
       "</div>"
      ],
      "text/plain": [
       "             pga\n",
       "0       0.061037\n",
       "1       0.180866\n",
       "2      -0.152702\n",
       "3      -0.126476\n",
       "4       0.124249\n",
       "...          ...\n",
       "106977  0.155628\n",
       "106978 -0.018953\n",
       "106979 -0.250837\n",
       "106980  0.101980\n",
       "106981  0.244099\n",
       "\n",
       "[106982 rows x 1 columns]"
      ]
     },
     "execution_count": 24,
     "metadata": {},
     "output_type": "execute_result"
    }
   ],
   "source": [
    "residual=output_y-y_pred\n",
    "residual"
   ]
  },
  {
   "cell_type": "code",
   "execution_count": 25,
   "metadata": {},
   "outputs": [],
   "source": [
    "dur=input_var['D20_80_']"
   ]
  },
  {
   "cell_type": "code",
   "execution_count": 26,
   "metadata": {},
   "outputs": [
    {
     "data": {
      "text/html": [
       "<div>\n",
       "<style scoped>\n",
       "    .dataframe tbody tr th:only-of-type {\n",
       "        vertical-align: middle;\n",
       "    }\n",
       "\n",
       "    .dataframe tbody tr th {\n",
       "        vertical-align: top;\n",
       "    }\n",
       "\n",
       "    .dataframe thead th {\n",
       "        text-align: right;\n",
       "    }\n",
       "</style>\n",
       "<table border=\"1\" class=\"dataframe\">\n",
       "  <thead>\n",
       "    <tr style=\"text-align: right;\">\n",
       "      <th></th>\n",
       "      <th>D20_80_</th>\n",
       "      <th>pga</th>\n",
       "    </tr>\n",
       "  </thead>\n",
       "  <tbody>\n",
       "    <tr>\n",
       "      <th>0</th>\n",
       "      <td>14.035</td>\n",
       "      <td>0.061037</td>\n",
       "    </tr>\n",
       "    <tr>\n",
       "      <th>1</th>\n",
       "      <td>12.985</td>\n",
       "      <td>0.180866</td>\n",
       "    </tr>\n",
       "    <tr>\n",
       "      <th>2</th>\n",
       "      <td>3.665</td>\n",
       "      <td>-0.152702</td>\n",
       "    </tr>\n",
       "    <tr>\n",
       "      <th>3</th>\n",
       "      <td>4.245</td>\n",
       "      <td>-0.126476</td>\n",
       "    </tr>\n",
       "    <tr>\n",
       "      <th>4</th>\n",
       "      <td>11.245</td>\n",
       "      <td>0.124249</td>\n",
       "    </tr>\n",
       "    <tr>\n",
       "      <th>...</th>\n",
       "      <td>...</td>\n",
       "      <td>...</td>\n",
       "    </tr>\n",
       "    <tr>\n",
       "      <th>106977</th>\n",
       "      <td>3.750</td>\n",
       "      <td>0.155628</td>\n",
       "    </tr>\n",
       "    <tr>\n",
       "      <th>106978</th>\n",
       "      <td>6.870</td>\n",
       "      <td>-0.018953</td>\n",
       "    </tr>\n",
       "    <tr>\n",
       "      <th>106979</th>\n",
       "      <td>5.460</td>\n",
       "      <td>-0.250837</td>\n",
       "    </tr>\n",
       "    <tr>\n",
       "      <th>106980</th>\n",
       "      <td>2.600</td>\n",
       "      <td>0.101980</td>\n",
       "    </tr>\n",
       "    <tr>\n",
       "      <th>106981</th>\n",
       "      <td>6.650</td>\n",
       "      <td>0.244099</td>\n",
       "    </tr>\n",
       "  </tbody>\n",
       "</table>\n",
       "<p>106982 rows × 2 columns</p>\n",
       "</div>"
      ],
      "text/plain": [
       "        D20_80_       pga\n",
       "0        14.035  0.061037\n",
       "1        12.985  0.180866\n",
       "2         3.665 -0.152702\n",
       "3         4.245 -0.126476\n",
       "4        11.245  0.124249\n",
       "...         ...       ...\n",
       "106977    3.750  0.155628\n",
       "106978    6.870 -0.018953\n",
       "106979    5.460 -0.250837\n",
       "106980    2.600  0.101980\n",
       "106981    6.650  0.244099\n",
       "\n",
       "[106982 rows x 2 columns]"
      ]
     },
     "execution_count": 26,
     "metadata": {},
     "output_type": "execute_result"
    }
   ],
   "source": [
    "calc=pd.concat([dur,residual], axis=1)\n",
    "calc"
   ]
  },
  {
   "cell_type": "code",
   "execution_count": 27,
   "metadata": {},
   "outputs": [
    {
     "name": "stdout",
     "output_type": "stream",
     "text": [
      "[ 0.03051277  0.0065706  -0.0233593  -0.04738648 -0.06134446 -0.06710984\n",
      " -0.09307388 -0.086939   -0.12597329 -0.16127126 -0.19424608 -0.24296109\n",
      " -0.3326657  -0.24859534 -0.42098236 -0.07256868 -0.06622723 -0.03395075\n",
      "  0.25554982 -0.14703051 -0.21523736 -0.40828395         nan -0.10458334\n",
      " -0.60829029         nan -0.14295988         nan]\n",
      "28\n"
     ]
    }
   ],
   "source": [
    "a=[]\n",
    "for i in range(0,140,5):\n",
    "    b=calc[(calc.D20_80_ >= i ) & (calc.D20_80_ <=i+5)].pga.mean()\n",
    "    a.append(b)\n",
    "    \n",
    "a=np.array(a)\n",
    "a\n",
    "\n",
    "print(a)\n",
    "print(len(a))"
   ]
  },
  {
   "cell_type": "code",
   "execution_count": 28,
   "metadata": {},
   "outputs": [],
   "source": [
    "c=[]\n",
    "for i in range(0,140,5):\n",
    "    c.append(i)"
   ]
  },
  {
   "cell_type": "code",
   "execution_count": 29,
   "metadata": {},
   "outputs": [
    {
     "data": {
      "image/png": "[encoded data removed]",
      "text/plain": [
       "<Figure size 1080x576 with 1 Axes>"
      ]
     },
     "metadata": {},
     "output_type": "display_data"
    }
   ],
   "source": [
    "x=input_var['D20_80_']\n",
    "y=residual['pga']\n",
    "plt.figure(figsize=(15,8))\n",
    "plt.hlines(y=0,xmin=0, xmax=250,color='blue',linestyle='--',lw=3)\n",
    "#sns.scatterplot(d,a, marker='o', color='red',s=200)\n",
    "sns.scatterplot(x,y, marker='+', color='black', s=90)\n",
    "sns.scatterplot(c,a, marker='o',s=200,color= 'olive')\n",
    "plt.ylabel('Residual Error----->', size=25)\n",
    "plt.xlabel('Significant Duration(20_80)----->', size=25)\n",
    "plt.xlim(0,150)\n",
    "plt.tick_params(axis='both', which='major', labelsize=20)"
   ]
  },
  {
   "cell_type": "code",
   "execution_count": 30,
   "metadata": {},
   "outputs": [
    {
     "name": "stdout",
     "output_type": "stream",
     "text": [
      "Mean of Training Data: 0.9707731393307204\n",
      "Standard Deviation of Training Data: 1.2553564540079796\n"
     ]
    }
   ],
   "source": [
    "print( \"Mean of Training Data:\", np.mean(y_train))\n",
    "print( \"Standard Deviation of Training Data:\", np.std(y_train))"
   ]
  },
  {
   "cell_type": "code",
   "execution_count": 31,
   "metadata": {},
   "outputs": [
    {
     "data": {
      "text/plain": [
       "(21397, 1)"
      ]
     },
     "execution_count": 31,
     "metadata": {},
     "output_type": "execute_result"
    }
   ],
   "source": [
    "pred=model.predict(X_test)\n",
    "pred.shape"
   ]
  },
  {
   "cell_type": "code",
   "execution_count": 32,
   "metadata": {},
   "outputs": [
    {
     "name": "stdout",
     "output_type": "stream",
     "text": [
      "Mean of Test Data: 0.98583704\n",
      "Standard Deviation of Test Data: 1.1937131\n"
     ]
    }
   ],
   "source": [
    "print( \"Mean of Test Data:\", np.mean(pred))\n",
    "print( \"Standard Deviation of Test Data:\", np.std(pred))"
   ]
  },
  {
   "cell_type": "code",
   "execution_count": null,
   "metadata": {},
   "outputs": [],
   "source": []
  }
 ],
 "metadata": {
  "kernelspec": {
   "display_name": "Python 3",
   "language": "python",
   "name": "python3"
  },
  "language_info": {
   "codemirror_mode": {
    "name": "ipython",
    "version": 3
   },
   "file_extension": ".py",
   "mimetype": "text/x-python",
   "name": "python",
   "nbconvert_exporter": "python",
   "pygments_lexer": "ipython3",
   "version": "3.7.7"
  }
 },
 "nbformat": 4,
 "nbformat_minor": 4
}
